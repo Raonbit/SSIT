{
 "cells": [
  {
   "cell_type": "markdown",
   "metadata": {},
   "source": [
    "### 1. 두 개의 numpy array가 동일한지 점검하는 함수를 작성하시오\n",
    "  - 함수 signature : arrEqual(arr1, arr2) : arr1, arr2 - numpy array\n",
    "  - 동일 조건 : 두개 array의 모양(shape)과 각 요소가 동일\n",
    "  - arr1 = array([[1, 3],[2, 4]]), arr2 = array([[1, 3],[2, 4]]) 이면 True, arr2 = array([[1, 3],[3, 4]]) 이면 False\n",
    "\n",
    "\n",
    "### 2. 다음 조건을 만족하는 함수를 작성하시오.\n",
    "  - 함수 signature : getLargestNum(arr, n) : arr - numpy array, n - integer\n",
    "  - 주어진 arr에서 n개의 가장 큰 수를 numpy array로 반환\n",
    "  - arr = array([1, 3, 100, 45, 2, 4]), n = 2 이면 array([100, 45]) 반환"
   ]
  }
 ],
 "metadata": {
  "kernelspec": {
   "display_name": "Python 3",
   "language": "python",
   "name": "python3"
  },
  "language_info": {
   "codemirror_mode": {
    "name": "ipython",
    "version": 3
   },
   "file_extension": ".py",
   "mimetype": "text/x-python",
   "name": "python",
   "nbconvert_exporter": "python",
   "pygments_lexer": "ipython3",
   "version": "3.7.1"
  }
 },
 "nbformat": 4,
 "nbformat_minor": 2
}
