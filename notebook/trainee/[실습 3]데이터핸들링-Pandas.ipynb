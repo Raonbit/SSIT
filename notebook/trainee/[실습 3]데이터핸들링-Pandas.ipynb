{
 "cells": [
  {
   "cell_type": "code",
   "execution_count": 1,
   "metadata": {
    "collapsed": false,
    "jupyter": {
     "outputs_hidden": false
    }
   },
   "outputs": [],
   "source": [
    "import pandas as pd\n",
    "import io\n",
    "import requests\n",
    "\n",
    "def get_csv(url):\n",
    "    content=requests.get(url).content\n",
    "    return pd.read_csv(io.StringIO(content.decode('utf-8')))\n",
    "\n",
    "def disp(*df):\n",
    "    for d in df:\n",
    "        print(d.head())\n",
    "        print('-----------------------')\n",
    "\n",
    "pop = get_csv('https://raw.githubusercontent.com/jakevdp/data-USstates/master/state-population.csv')\n",
    "areas = get_csv('https://raw.githubusercontent.com/jakevdp/data-USstates/master/state-areas.csv')\n",
    "abbrevs = get_csv('https://raw.githubusercontent.com/jakevdp/data-USstates/master/state-abbrevs.csv')"
   ]
  },
  {
   "cell_type": "code",
   "execution_count": 2,
   "metadata": {},
   "outputs": [
    {
     "name": "stdout",
     "output_type": "stream",
     "text": [
      "  state/region     ages  year  population\n",
      "0           AL  under18  2012   1117489.0\n",
      "1           AL    total  2012   4817528.0\n",
      "2           AL  under18  2010   1130966.0\n",
      "3           AL    total  2010   4785570.0\n",
      "4           AL  under18  2011   1125763.0\n",
      "-----------------------\n",
      "        state  area (sq. mi)\n",
      "0     Alabama          52423\n",
      "1      Alaska         656425\n",
      "2     Arizona         114006\n",
      "3    Arkansas          53182\n",
      "4  California         163707\n",
      "-----------------------\n",
      "        state abbreviation\n",
      "0     Alabama           AL\n",
      "1      Alaska           AK\n",
      "2     Arizona           AZ\n",
      "3    Arkansas           AR\n",
      "4  California           CA\n",
      "-----------------------\n"
     ]
    }
   ],
   "source": [
    "disp(pop, areas, abbrevs)"
   ]
  },
  {
   "cell_type": "markdown",
   "metadata": {},
   "source": [
    "### 1. 다음 조건을 만족하는 'merged' 라는 이름의 DataFrame을 만드시오\n",
    "\n",
    "- merged.head() \n"
   ]
  },
  {
   "cell_type": "markdown",
   "metadata": {},
   "source": [
    "--- \n",
    "\n",
    "|-|state/region|ages|year|population|state|\n",
    "|---| --- | --- | --- | --- | --- |\n",
    "|0|AL|under18|2012|1117489.0|Alabama|\n",
    "|1|AL|total|2012|4817528.0|Alabama|\n",
    "|2|AL|under18|2010|1130966.0|Alabama|\n",
    "|3|AL|total|2010|4785570.0|Alabama|\n",
    "|4|AL|under18|2011|1125763.0|Alabama|"
   ]
  },
  {
   "cell_type": "markdown",
   "metadata": {},
   "source": [
    "- merges.shape\n",
    "\n",
    "<center>(2544, 5)</center>"
   ]
  },
  {
   "cell_type": "markdown",
   "metadata": {},
   "source": [
    " - merged.isnull().any()\n",
    " \n",
    "<center>\n",
    "<table>\n",
    "    <tr><td>state/region</td><td>False</td></tr>\n",
    "    <tr><td>ages</td><td>False</td></tr>\n",
    "    <tr><td>year</td><td>False</td></tr>\n",
    "    <tr><td>population</td><td>True</td></tr>\n",
    "    <tr><td>state</td><td>True</td></tr>\n",
    "    <tr><td>dtype: bool</td><td></td></tr>\n",
    "    </table>\n",
    "</center>"
   ]
  },
  {
   "cell_type": "markdown",
   "metadata": {},
   "source": [
    "### 2. 'merged' DataFrame의 Null 값을 다음 조건에 맞게 채우시오\n",
    "\n",
    "- 'stat/resion'이 'PR' 인 경우에 'state' 값은 'Puerto Rico'\n",
    "- 'stat/resion'이 'USA' 인 경우에 'state' 값은 'United States'"
   ]
  },
  {
   "cell_type": "markdown",
   "metadata": {},
   "source": [
    "### 3. 다음 조건을 만족하는 'final' 이라는 이름의 DataFrame을 만드시오\n",
    "\n",
    "- final.head()"
   ]
  },
  {
   "cell_type": "markdown",
   "metadata": {},
   "source": [
    "|-|state/region|ages|year|population|state|area (sq. mi)|\n",
    "|---| --- | --- | --- | --- | --- |---|\n",
    "|0|AL|under18|2012|1117489.0|Alabama|52423.0|\n",
    "|1|AL|total|2012|4817528.0|Alabama|52423.0|\n",
    "|2|AL|under18|2010|1130966.0|Alabama|52423.0|\n",
    "|3|AL|total|2010|4785570.0|Alabama|52423.0|\n",
    "|4|AL|under18|2011|1125763.0|Alabama|52423.0|"
   ]
  },
  {
   "cell_type": "markdown",
   "metadata": {},
   "source": [
    "- final.shape\n",
    "\n",
    "<center>(2544, 6)</center>"
   ]
  },
  {
   "cell_type": "markdown",
   "metadata": {},
   "source": [
    "- final.isnull().any()\n",
    "\n",
    "<center>\n",
    "<table>\n",
    "    <tr><td>state/region</td><td>False</td></tr>\n",
    "    <tr><td>ages</td><td>False</td></tr>\n",
    "    <tr><td>year</td><td>False</td></tr>\n",
    "    <tr><td>population</td><td>True</td></tr>\n",
    "    <tr><td>state</td><td>False</td></tr>\n",
    "    <tr><td>area (sq. mi)</td><td>True</td></tr>\n",
    "    <tr><td>dtype: bool</td><td></td></tr>\n",
    "    </table>\n",
    "</center>"
   ]
  },
  {
   "cell_type": "markdown",
   "metadata": {},
   "source": [
    "### 4. 2010년도 각 주의 인구밀도를 구하시오\n",
    "\n",
    "- 인구밀도 : 총인구 / 면적"
   ]
  }
 ],
 "metadata": {
  "kernelspec": {
   "display_name": "Python 3",
   "language": "python",
   "name": "python3"
  },
  "language_info": {
   "codemirror_mode": {
    "name": "ipython",
    "version": 3
   },
   "file_extension": ".py",
   "mimetype": "text/x-python",
   "name": "python",
   "nbconvert_exporter": "python",
   "pygments_lexer": "ipython3",
   "version": "3.7.4"
  }
 },
 "nbformat": 4,
 "nbformat_minor": 4
}
