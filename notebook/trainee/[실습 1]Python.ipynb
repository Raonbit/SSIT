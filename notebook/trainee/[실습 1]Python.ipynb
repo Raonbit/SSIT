{
 "cells": [
  {
   "cell_type": "markdown",
   "metadata": {},
   "source": [
    "### 1. factorial 함수 fact(n)을 작성하시오.\n",
    "  - factorial :  n이 하나의 자연수일 때, 1에서 n까지의 모든 자연수의 곱, 이때 0의 factorial 은 1\n",
    "  - 사용 예시 : fact(0) - 1, fact(3) - 6, fact(10) - 3628800\n",
    "\n",
    "### 2. 다음 조건을 만족하는 함수를 작성하시오.\n",
    "  - 함수 signature : ispalindrome(word)\n",
    "  - 단어를 입력 받아서 입력단어가 앞에서부터 읽으나 뒤에서부터 읽으나 동일한 단어이면 True를 반환하고, 아니면 False를 반환 \n",
    "  - 입력 단어의 대소문자는 구분하지 않음\n",
    "  - 사용 예시 : ispalindrome('Aba') - True, ispalindrome('가나다') - False\n",
    "  \n",
    "### 3. 두개 이상의 리스트를 입력 받아서 모든 리스트의 값들 중에 유일한 값들로 구성된 리스트를 정렬하여 반환하는 함수를 작성하시오.\n",
    "  - 함수 이름 : uniquelist\n",
    "  - 입력받는 인자의 개수는 제한 없고 가변적임\n",
    "  - for 문 사용 금지\n",
    "  - uniquelist(['ddd', 'bbb', 'ccc'], ['aaa', 'bbb']) - ['aaa', 'bbb', 'ccc', 'ddd']\n",
    "  - uniquelist(['ddd', 'bbb'], ['aaa', 'bbb'], ['kkk', 'ddd']) - ['aaa', 'bbb', 'ddd', 'kkk']\n",
    "\n",
    "  \n",
    "### 4. 주어진 리스트의 원소를 주어진 개수만큼 오른쪽에서 왼쪽으로 회전 시키는 함수를 작성하시오. \n",
    "  - 함수 signature : move(l, n)\n",
    "  - 사용 예시  : l = [1,2,3,4,5], n = 3\n",
    "                move(l,n) - [4,5,1,2,3]\n"
   ]
  }
 ],
 "metadata": {
  "kernelspec": {
   "display_name": "Python 3",
   "language": "python",
   "name": "python3"
  },
  "language_info": {
   "codemirror_mode": {
    "name": "ipython",
    "version": 3
   },
   "file_extension": ".py",
   "mimetype": "text/x-python",
   "name": "python",
   "nbconvert_exporter": "python",
   "pygments_lexer": "ipython3",
   "version": "3.6.7"
  }
 },
 "nbformat": 4,
 "nbformat_minor": 4
}
