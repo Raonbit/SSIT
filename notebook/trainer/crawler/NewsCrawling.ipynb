{
 "cells": [
  {
   "cell_type": "markdown",
   "metadata": {},
   "source": [
    "## News Crawling"
   ]
  },
  {
   "cell_type": "code",
   "execution_count": 1,
   "metadata": {},
   "outputs": [
    {
     "data": {
      "text/plain": [
       "<Response [200]>"
      ]
     },
     "execution_count": 1,
     "metadata": {},
     "output_type": "execute_result"
    }
   ],
   "source": [
    "import requests\n",
    "\n",
    "url = 'https://search.daum.net/search?w=news&q=류현진&DA=ATG&spacing=0'"
   ]
  },
  {
   "cell_type": "code",
   "execution_count": 14,
   "metadata": {},
   "outputs": [
    {
     "data": {
      "text/plain": [
       "True"
      ]
     },
     "execution_count": 14,
     "metadata": {},
     "output_type": "execute_result"
    }
   ],
   "source": [
    "import webbrowser\n",
    "webbrowser.open(url)"
   ]
  },
  {
   "cell_type": "code",
   "execution_count": 15,
   "metadata": {},
   "outputs": [
    {
     "data": {
      "text/plain": [
       "'https://search.daum.net/search?w=news&q=%EB%A5%98%ED%98%84%EC%A7%84&DA=ATG&spacing=0'"
      ]
     },
     "execution_count": 15,
     "metadata": {},
     "output_type": "execute_result"
    }
   ],
   "source": [
    "from urllib import parse\n",
    "url2 = url.replace('류현진', parse.quote('류현진'))\n",
    "url2"
   ]
  },
  {
   "cell_type": "code",
   "execution_count": 16,
   "metadata": {},
   "outputs": [
    {
     "data": {
      "text/plain": [
       "True"
      ]
     },
     "execution_count": 16,
     "metadata": {},
     "output_type": "execute_result"
    }
   ],
   "source": [
    "webbrowser.open(url2)"
   ]
  },
  {
   "cell_type": "code",
   "execution_count": 17,
   "metadata": {},
   "outputs": [
    {
     "data": {
      "text/plain": [
       "<Response [200]>"
      ]
     },
     "execution_count": 17,
     "metadata": {},
     "output_type": "execute_result"
    }
   ],
   "source": [
    "response = requests.get(url)\n",
    "response"
   ]
  },
  {
   "cell_type": "code",
   "execution_count": null,
   "metadata": {},
   "outputs": [],
   "source": [
    "response.text[:1000]"
   ]
  },
  {
   "cell_type": "code",
   "execution_count": 3,
   "metadata": {},
   "outputs": [
    {
     "data": {
      "text/plain": [
       "bs4.BeautifulSoup"
      ]
     },
     "execution_count": 3,
     "metadata": {},
     "output_type": "execute_result"
    }
   ],
   "source": [
    "from bs4 import BeautifulSoup as bs\n",
    "html = bs(response.text)\n",
    "type(html)"
   ]
  },
  {
   "cell_type": "code",
   "execution_count": 4,
   "metadata": {},
   "outputs": [
    {
     "data": {
      "text/plain": [
       "\u001b[0;31mInit signature:\u001b[0m\n",
       "\u001b[0mbs\u001b[0m\u001b[0;34m(\u001b[0m\u001b[0;34m\u001b[0m\n",
       "\u001b[0;34m\u001b[0m    \u001b[0mmarkup\u001b[0m\u001b[0;34m=\u001b[0m\u001b[0;34m''\u001b[0m\u001b[0;34m,\u001b[0m\u001b[0;34m\u001b[0m\n",
       "\u001b[0;34m\u001b[0m    \u001b[0mfeatures\u001b[0m\u001b[0;34m=\u001b[0m\u001b[0;32mNone\u001b[0m\u001b[0;34m,\u001b[0m\u001b[0;34m\u001b[0m\n",
       "\u001b[0;34m\u001b[0m    \u001b[0mbuilder\u001b[0m\u001b[0;34m=\u001b[0m\u001b[0;32mNone\u001b[0m\u001b[0;34m,\u001b[0m\u001b[0;34m\u001b[0m\n",
       "\u001b[0;34m\u001b[0m    \u001b[0mparse_only\u001b[0m\u001b[0;34m=\u001b[0m\u001b[0;32mNone\u001b[0m\u001b[0;34m,\u001b[0m\u001b[0;34m\u001b[0m\n",
       "\u001b[0;34m\u001b[0m    \u001b[0mfrom_encoding\u001b[0m\u001b[0;34m=\u001b[0m\u001b[0;32mNone\u001b[0m\u001b[0;34m,\u001b[0m\u001b[0;34m\u001b[0m\n",
       "\u001b[0;34m\u001b[0m    \u001b[0mexclude_encodings\u001b[0m\u001b[0;34m=\u001b[0m\u001b[0;32mNone\u001b[0m\u001b[0;34m,\u001b[0m\u001b[0;34m\u001b[0m\n",
       "\u001b[0;34m\u001b[0m    \u001b[0;34m**\u001b[0m\u001b[0mkwargs\u001b[0m\u001b[0;34m,\u001b[0m\u001b[0;34m\u001b[0m\n",
       "\u001b[0;34m\u001b[0m\u001b[0;34m)\u001b[0m\u001b[0;34m\u001b[0m\u001b[0;34m\u001b[0m\u001b[0m\n",
       "\u001b[0;31mDocstring:\u001b[0m     \n",
       "This class defines the basic interface called by the tree builders.\n",
       "\n",
       "These methods will be called by the parser:\n",
       "  reset()\n",
       "  feed(markup)\n",
       "\n",
       "The tree builder may call these methods from its feed() implementation:\n",
       "  handle_starttag(name, attrs) # See note about return value\n",
       "  handle_endtag(name)\n",
       "  handle_data(data) # Appends to the current data node\n",
       "  endData(containerClass=NavigableString) # Ends the current data node\n",
       "\n",
       "No matter how complicated the underlying parser is, you should be\n",
       "able to build a tree using 'start tag' events, 'end tag' events,\n",
       "'data' events, and \"done with data\" events.\n",
       "\n",
       "If you encounter an empty-element tag (aka a self-closing tag,\n",
       "like HTML's <br> tag), call handle_starttag and then\n",
       "handle_endtag.\n",
       "\u001b[0;31mInit docstring:\u001b[0m\n",
       "Constructor.\n",
       "\n",
       ":param markup: A string or a file-like object representing\n",
       "markup to be parsed.\n",
       "\n",
       ":param features: Desirable features of the parser to be used. This\n",
       "may be the name of a specific parser (\"lxml\", \"lxml-xml\",\n",
       "\"html.parser\", or \"html5lib\") or it may be the type of markup\n",
       "to be used (\"html\", \"html5\", \"xml\"). It's recommended that you\n",
       "name a specific parser, so that Beautiful Soup gives you the\n",
       "same results across platforms and virtual environments.\n",
       "\n",
       ":param builder: A specific TreeBuilder to use instead of looking one\n",
       "up based on `features`. You shouldn't need to use this.\n",
       "\n",
       ":param parse_only: A SoupStrainer. Only parts of the document\n",
       "matching the SoupStrainer will be considered. This is useful\n",
       "when parsing part of a document that would otherwise be too\n",
       "large to fit into memory.\n",
       "\n",
       ":param from_encoding: A string indicating the encoding of the\n",
       "document to be parsed. Pass this in if Beautiful Soup is\n",
       "guessing wrongly about the document's encoding.\n",
       "\n",
       ":param exclude_encodings: A list of strings indicating\n",
       "encodings known to be wrong. Pass this in if you don't know\n",
       "the document's encoding but you know Beautiful Soup's guess is\n",
       "wrong.\n",
       "\n",
       ":param kwargs: For backwards compatibility purposes, the\n",
       "constructor accepts certain keyword arguments used in\n",
       "Beautiful Soup 3. None of these arguments do anything in\n",
       "Beautiful Soup 4 and there's no need to actually pass keyword\n",
       "arguments into the constructor.\n",
       "\u001b[0;31mFile:\u001b[0m           ~/miniconda3/envs/summer/lib/python3.7/site-packages/bs4/__init__.py\n",
       "\u001b[0;31mType:\u001b[0m           type\n",
       "\u001b[0;31mSubclasses:\u001b[0m     BeautifulStoneSoup\n"
      ]
     },
     "metadata": {},
     "output_type": "display_data"
    }
   ],
   "source": [
    "?bs"
   ]
  },
  {
   "cell_type": "code",
   "execution_count": 5,
   "metadata": {},
   "outputs": [
    {
     "data": {
      "text/plain": [
       "[<meta content=\"text/html;charset=utf-8\" http-equiv=\"content-Type\"/>,\n",
       " <meta content=\"IE=edge\" http-equiv=\"X-UA-Compatible\"/>,\n",
       " <meta content=\"off\" name=\"autocomplete\"/>,\n",
       " <meta content=\"always\" name=\"referrer\"/>,\n",
       " <meta content=\"telephone=no\" name=\"format-detection\"/>,\n",
       " <meta content=\"류현진 – Daum 검색\" property=\"og:title\"/>,\n",
       " <meta content=\"https://search.daum.net/search?w=news&amp;q=%EB%A5%98%ED%98%84%EC%A7%84\" property=\"og:url\"/>,\n",
       " <meta content=\"Daum 검색에서 류현진에 대한 최신정보를 찾아보세요.\" property=\"og:description\"/>,\n",
       " <meta content=\"https://search1.daumcdn.net/search/statics/common/img/og_search.png\" property=\"og:image\"/>,\n",
       " <meta content=\"다음검색\" property=\"og:site_name\"/>,\n",
       " <title>류현진 – Daum 검색</title>,\n",
       " <link href=\"//search.daum.net/OpenSearch.xml\" rel=\"search\" title=\"Daum\" type=\"application/opensearchdescription+xml\"/>,\n",
       " <link charset=\"utf-8\" href=\"//search1.daumcdn.net/search/statics/common/css/2019/p_common.0709055658.css\" rel=\"stylesheet\" type=\"text/css\"/>,\n",
       " <link charset=\"utf-8\" href=\"//search1.daumcdn.net/search/statics/common/css/2019/p_collection.0702055038.css\" rel=\"stylesheet\" type=\"text/css\"/>,\n",
       " <link charset=\"utf-8\" href=\"//search1.daumcdn.net/search/statics/common/css/2019/p_collection2.0618050339.css\" rel=\"stylesheet\" type=\"text/css\"/>,\n",
       " <link charset=\"utf-8\" href=\"//search1.daumcdn.net/search/statics/common/css/2019/p_coll_tab.0226053255.css\" rel=\"stylesheet\" type=\"text/css\"/>,\n",
       " <script type=\"text/javascript\">\n",
       " var SF, C, T;\n",
       " var uk = \"XS-ry9PnaWwAAHYv8PgAAACB\";\n",
       " var mk = \"XS-ry9PnaWwAAHYv8PgAAACB\";\n",
       " var ud = \"\";\n",
       " var uuid = \"\";\n",
       " var adid = \"\";\n",
       " var adid_enabled = \"N\";\n",
       " var viewio = \"i\";\n",
       " var viewsite = \"\";\n",
       " var ServerTime = \"20190718124723\";\n",
       " var EnQuery = \"%B7%F9%C7%F6%C1%F8\";\n",
       " var utf8Query = \"%EB%A5%98%ED%98%84%EC%A7%84\";\n",
       " var topQuery = \"류현진\";\n",
       " var backQuery = \"%EB%A5%98%ED%98%84%EC%A7%84\";\n",
       " var login_yn = \"N\";\n",
       " var encodeType = \"2\";\n",
       " var refCode = \"\";\n",
       " var bucketType = \"\";\n",
       " var name_check = \"0\";\n",
       " var mobileDevice = \"N\";\n",
       " var param_w=\"news\";\n",
       " var param_da = \"ATG\";\n",
       " var paramCfg = \"\";\n",
       " var param_cnucc = \"\"; \n",
       " var cnucc = \"\";\n",
       " var usrIp = \"211.170.61.154\";\n",
       " var isDetailTab = \"N\"; \n",
       " var width_over_620 = \"N\";\n",
       " \n",
       " var isReleaseMode = \"\";\n",
       " \n",
       " var KAKAO_ACCOUNT_ID_CONNECTED = \"N\";\n",
       " \n",
       " var displayInfo = {\"SER\":[{\"code\":\"NNS\",\"doc_count\":14}],\"SGR\":[{\"code\":\"1TH\",\"doc_count\":0},{\"code\":\"EOA\",\"doc_count\":0},{\"code\":\"DRU\",\"doc_count\":0},{\"code\":\"MBK\",\"doc_count\":0},{\"code\":\"NSJ\",\"doc_count\":0},{\"code\":\"DCC\",\"doc_count\":0},{\"code\":\"RNN\",\"doc_count\":0},{\"code\":\"EOA\",\"doc_count\":0},{\"code\":\"MBK\",\"doc_count\":0},{\"code\":\"DRU\",\"doc_count\":0}],\"SUI\":[{\"code\":\"STC\",\"doc_count\":0},{\"code\":\"PGD\",\"doc_count\":0},{\"code\":\"MNN\",\"doc_count\":0},{\"code\":\"RSN\",\"doc_count\":0}]}\n",
       " ;\n",
       " var slCallType = \"sync\";\n",
       " var pageLoadedTime = 0;\n",
       " var startTime = new Date().getTime();\n",
       " var sugLocCode = \"\";\n",
       " var searchLog = {\n",
       " uc: 0,\n",
       " clickCount: 0,\n",
       " dl: \"\"\n",
       " };\n",
       " var SEARCHLOGDOMAIN = \"//sl.search.daum.net\"; \n",
       " </script>,\n",
       " <script id=\"answer-world-weather-template\" type=\"text/html\">\n",
       " <span class=\"weather_comp\">\n",
       " <span class=\"txt_exact ico_suggest\" data-bind=\"css: icon40\">\n",
       " <span class=\"tit\" data-bind=\"text: (country + ' ' + city)\"></span>\n",
       " <span class=\"cont\">\n",
       " <span class=\"txt_cont\" data-bind=\"text: wtext\"></span>\n",
       " <span class=\"txt_num1 ico_suggest2 ico_celsius txt_blue\" data-bind=\"text: mintemp\"></span><span class=\"txt_unit\">℃</span>\n",
       " <span class=\"bar\"> / </span>\n",
       " <span class=\"txt_num1 ico_suggest2 ico_celsius txt_red\" data-bind=\"text: maxtemp\"></span><span class=\"txt_unit\">℃</span>\n",
       " </span>\n",
       " </span>\n",
       " <span class=\"txt_time\" data-bind=\"text: (ddate + ', 한국기준')\"></span>\n",
       " </span>\n",
       " </script>,\n",
       " <script id=\"answer-korea-weather-template\" type=\"text/html\">\n",
       " <span class=\"weather_comp\">\n",
       " <span class=\"txt_exact ico_suggest\" data-bind=\"css: icon40\">\n",
       " <span class=\"tit\" data-bind=\"text: areaname\"></span>\n",
       " <span class=\"cont\"><span class=\"txt_cont\" data-bind=\"text: wtext5s\"></span> <span class=\"txt_num1 ico_suggest2 ico_celsius\" data-bind=\"text: temp\"></span><span class=\"txt_unit\">℃</span></span>\n",
       " </span>\n",
       " <span class=\"txt_time\" data-bind=\"text: (announce + ' 기준') \"></span>\n",
       " </span>\n",
       " </script>,\n",
       " <script charset=\"utf-8\" src=\"//search1.daumcdn.net/search/statics/common/js/fe/tot-search/polyfill/p/polyfill.p.common.20190528220058.min.js\" type=\"text/javascript\"></script>,\n",
       " <script charset=\"utf-8\" src=\"//search1.daumcdn.net/search/statics/common/js/fe/tot-search/vendor/p/common/vendor.p.common.20190423132502.min.js\" type=\"text/javascript\"></script>,\n",
       " <script charset=\"utf-8\" src=\"//search1.daumcdn.net/search/statics/common/js/2019/p_log.min.20190529153857.js\" type=\"text/javascript\"></script>,\n",
       " <script charset=\"utf-8\" src=\"//search1.daumcdn.net/search/statics/common/js/fe/tot-search/module/p/common/module.p.common.20190710143417.min.js\" type=\"text/javascript\"></script>,\n",
       " <script charset=\"utf-8\" src=\"//search1.daumcdn.net/search/statics/common/js/fe/tot-search/module/p/search/module.p.search.20190321202307.min.js\" type=\"text/javascript\"></script>,\n",
       " <script>\n",
       " (function(SF, $, SL) {\n",
       " Object.assign(SF, {\n",
       " logStaticErrors: {\n",
       " isArgonUrl: function(url) {\n",
       " return url.indexOf('argon') !== -1;\n",
       " },\n",
       " extractArgonId: function(url) {\n",
       " return url.split('/').pop();\n",
       " },\n",
       " createFreeLogParams: function(ids) {\n",
       " return {\n",
       " timg: ids.join(',')\n",
       " };\n",
       " },\n",
       " chunkCall: function (fn, options) {\n",
       " var chunk = [];\n",
       " var debounced = $.debounce(function() {\n",
       " if (chunk.length > 0) {\n",
       " fn(chunk);\n",
       " chunk = [];\n",
       " }\n",
       " }, options.timeout);\n",
       " return function (arg) {\n",
       " chunk.push(arg);\n",
       " if (chunk.length >= options.chunkSize) {\n",
       " fn(chunk);\n",
       " chunk = [];\n",
       " }\n",
       " debounced();\n",
       " };\n",
       " },\n",
       " init: function() {\n",
       " this.subscribe();\n",
       " },\n",
       " subscribe: function() {\n",
       " if (!('addEventListener' in document)) {\n",
       " return;\n",
       " }\n",
       " var sendLog = this.chunkCall(this.sendLog.bind(this), {\n",
       " timeout: 1000,\n",
       " chunkSize: 50\n",
       " });\n",
       " var onError = this.onError.bind(this, sendLog);\n",
       " this.unsubscribe = function () {\n",
       " window.removeEventListener('error', onError);\n",
       " };\n",
       " window.addEventListener('error', onError, true);\n",
       " },\n",
       " onError: function (callback, event) {\n",
       " var src = event.target.src;\n",
       " if (typeof src === 'string' && this.isArgonUrl(src)) {\n",
       " callback(this.extractArgonId(src));\n",
       " }\n",
       " },\n",
       " sendLog: function(argonIds) {\n",
       " var params = this.createFreeLogParams(argonIds);\n",
       " SL.freelog.send(params);\n",
       " },\n",
       " unsubscribe: $.noop\n",
       " }\n",
       " });\n",
       " })(window.SF || {}, window.jQuery, window.SL || {});\n",
       " SF.logStaticErrors.init();\n",
       " </script>,\n",
       " <script type=\"text/javascript\">\n",
       " SF.loadModuleList = {\n",
       " \"amcharts\":\"//search1.daumcdn.net/search/statics/common/js/fe/tot-search/library/p/amcharts.20190321202015.min.js\",\n",
       " \"kakaosdk\":\"//search1.daumcdn.net/search/statics/common/js/fe/tot-search/library/p/kakaosdk.20190321202015.min.js\",\n",
       " \"kakaotv\":\"//tv.kakao.com/player/script/sdk/player_api.min.js\",\n",
       " \"pagenavigation\":\"//search1.daumcdn.net/search/statics/common/js/fe/tot-search/module/p/pagenavigation/module.p.pagenavigation.20190423161542.min.js\",\n",
       " \"youtube\":\"//www.youtube.com/player_api\"\n",
       " };\n",
       " </script>]"
      ]
     },
     "execution_count": 5,
     "metadata": {},
     "output_type": "execute_result"
    }
   ],
   "source": [
    "html = bs(response.text, 'lxml')\n",
    "html.head()"
   ]
  },
  {
   "cell_type": "markdown",
   "metadata": {},
   "source": [
    "### Selector\n",
    "=======================================================================================================\n",
    "\n",
    "#soup.select('css selector')\n",
    "#soup.select('태그명')\n",
    "#soup.select('.클래스명')\n",
    "#soup.select('상위태그명 > 하위태그명 > 하위태그명')\n",
    "#soup.select('상위태그명.클래스명 > 하위태그명.클래스명')    : 바로 아래의(자식) 태그를 선택시에는 > 기호를 사용\n",
    "#soup.select('상위태그명.클래스명 하~위태그명')            : 아래의(자손) 태그를 선택시에는   띄어쓰기 사용\n",
    "#soup.select('상위태그명 > 바로아래태그명 하~위태그명')     \n",
    "#soup.select('.클래스명')\n",
    "#soup.select('#아이디명')                  : 태그는 여러개에 사용 가능하나 아이디는 한번만 사용 가능함! ==> 선택하기 좋음\n",
    "#soup.select('태그명.클래스명)\n",
    "#soup.select('#아이디명 > 태그명.클래스명)\n",
    "#soup.select('태그명[속성1=값1]')\n",
    "\n",
    "======================================================================================================="
   ]
  },
  {
   "cell_type": "code",
   "execution_count": 18,
   "metadata": {},
   "outputs": [],
   "source": [
    "title = html.select('#clusterResultUL > li.fst > div.wrap_cont > div > div > a')"
   ]
  },
  {
   "cell_type": "code",
   "execution_count": 19,
   "metadata": {},
   "outputs": [
    {
     "data": {
      "text/plain": [
       "[<a class=\"f_link_b\" href=\"http://v.media.daum.net/v/20190718123053781?f=o\" onclick='smartLog(this, \"s=NS&amp;a=LNTO&amp;dc=NNS&amp;d=26E6Sw72WXfXb4r77y&amp;pg=1&amp;r=1&amp;p=4&amp;rc=10&amp;e1=16NwX_ox536G_zyJUF&amp;e3=0&amp;ext=dsid=26E6Sw72WXfXb4r77y\", event);' target=\"_blank\">남자 배구 감독 임도헌, 돌연 <b>류현진</b> 말한 이유</a>]"
      ]
     },
     "execution_count": 19,
     "metadata": {},
     "output_type": "execute_result"
    }
   ],
   "source": [
    "title"
   ]
  },
  {
   "cell_type": "code",
   "execution_count": 20,
   "metadata": {},
   "outputs": [
    {
     "name": "stdout",
     "output_type": "stream",
     "text": [
      "남자 배구 감독 임도헌, 돌연 류현진 말한 이유\n",
      "http://v.media.daum.net/v/20190718123053781?f=o\n"
     ]
    }
   ],
   "source": [
    "first = title[0]\n",
    "print(first.get_text())\n",
    "print(first['href'])"
   ]
  },
  {
   "cell_type": "code",
   "execution_count": 21,
   "metadata": {},
   "outputs": [],
   "source": [
    "table = html.select('#clusterResultUL')[0]\n",
    "links = table.select('a[href]')"
   ]
  },
  {
   "cell_type": "code",
   "execution_count": 22,
   "metadata": {},
   "outputs": [
    {
     "name": "stdout",
     "output_type": "stream",
     "text": [
      "\n",
      "http://v.media.daum.net/v/20190718123053781?f=o\n",
      "---------------------------------------\n",
      "남자 배구 감독 임도헌, 돌연 류현진 말한 이유\n",
      "http://v.media.daum.net/v/20190718123053781?f=o\n",
      "---------------------------------------\n",
      "다음뉴스\n",
      "http://v.media.daum.net/v/20190718123053781\n",
      "---------------------------------------\n",
      "'올림픽 티켓 도전', 임도헌 감독이 류현진 언급한...\n",
      "http://v.media.daum.net/v/20190718121150483?f=o\n",
      "---------------------------------------\n",
      "다음뉴스\n",
      "http://v.media.daum.net/v/20190718121150483\n",
      "---------------------------------------\n",
      "\n",
      "http://v.media.daum.net/v/20190718100647765?f=o\n",
      "---------------------------------------\n",
      "'11승 예감' 류현진, 20일 리그 최약체 마이애미전 선발 등판\n",
      "http://v.media.daum.net/v/20190718100647765?f=o\n",
      "---------------------------------------\n",
      "다음뉴스\n",
      "http://v.media.daum.net/v/20190718100647765\n",
      "---------------------------------------\n",
      "류현진, 20일 NL 최하위 마이애미 상대로 11승 도전\n",
      "http://v.media.daum.net/v/20190718102405436?f=o\n",
      "---------------------------------------\n",
      "다음뉴스\n",
      "http://v.media.daum.net/v/20190718102405436\n",
      "---------------------------------------\n",
      "류현진, 리그 최약체 마이애미 상대로 시즌 11승 도전\n",
      "http://v.media.daum.net/v/20190718121634536?f=o\n",
      "---------------------------------------\n",
      "다음뉴스\n",
      "http://v.media.daum.net/v/20190718121634536\n",
      "---------------------------------------\n",
      "류현진, 오는 20일 '리그 최약체' 마이애미 상대로...\n",
      "http://v.media.daum.net/v/20190718110301296?f=o\n",
      "---------------------------------------\n",
      "다음뉴스\n",
      "http://v.media.daum.net/v/20190718110301296\n",
      "---------------------------------------\n",
      "관련뉴스 7건 전체보기\n",
      "?w=news&req=tab&q=%EB%A5%98%ED%98%84%EC%A7%84&viewio=i&repno=0&n=10&p=1&related_page=1&cluster_docid=26Oq6M9qkPrXcg1f68&DA=ATG\n",
      "---------------------------------------\n",
      "\n",
      "http://v.media.daum.net/v/20190718102054299?f=o\n",
      "---------------------------------------\n",
      "'안방불패..7승무패, ERA 0.85' 류현진, 20일 '극약' 마이애미 상대\n",
      "http://v.media.daum.net/v/20190718102054299?f=o\n",
      "---------------------------------------\n",
      "다음뉴스\n",
      "http://v.media.daum.net/v/20190718102054299\n",
      "---------------------------------------\n",
      "\n",
      "http://v.media.daum.net/v/20190718111832064?f=o\n",
      "---------------------------------------\n",
      "[류현진 타임]류현진, '0승 신인투수' 잭 갤런과 20일 선발 격돌.....\n",
      "http://v.media.daum.net/v/20190718111832064?f=o\n",
      "---------------------------------------\n",
      "다음뉴스\n",
      "http://v.media.daum.net/v/20190718111832064\n",
      "---------------------------------------\n",
      "\n",
      "http://v.media.daum.net/v/20190718114338370?f=o\n",
      "---------------------------------------\n",
      "이변 노리는 임도헌 감독의 색깔 \"옛날 배구, 그리고 류현진처럼\"\n",
      "http://v.media.daum.net/v/20190718114338370?f=o\n",
      "---------------------------------------\n",
      "다음뉴스\n",
      "http://v.media.daum.net/v/20190718114338370\n",
      "---------------------------------------\n",
      "\n",
      "http://v.media.daum.net/v/NV0ZqdTcDS?f=o\n",
      "---------------------------------------\n",
      "[야구는 구라다] 류현진 디스카운트\n",
      "http://v.media.daum.net/v/NV0ZqdTcDS?f=o\n",
      "---------------------------------------\n",
      "다음뉴스\n",
      "http://v.media.daum.net/v/NV0ZqdTcDS\n",
      "---------------------------------------\n",
      "\n",
      "http://v.media.daum.net/v/20190718115949965?f=o\n",
      "---------------------------------------\n",
      "홈에서 최약체 MIA 만나는 류현진, 승리 이상 노릴 '절호의 기회'\n",
      "http://v.media.daum.net/v/20190718115949965?f=o\n",
      "---------------------------------------\n",
      "다음뉴스\n",
      "http://v.media.daum.net/v/20190718115949965\n",
      "---------------------------------------\n",
      "\n",
      "http://v.media.daum.net/v/20190718114555467?f=o\n",
      "---------------------------------------\n",
      "'올스타 원정대', 류현진♥배지현→MLB 레전드들이 말하는 '괴물'.....\n",
      "http://v.media.daum.net/v/20190718114555467?f=o\n",
      "---------------------------------------\n",
      "다음뉴스\n",
      "http://v.media.daum.net/v/20190718114555467\n",
      "---------------------------------------\n",
      "\n",
      "http://v.media.daum.net/v/20190718115808908?f=o\n",
      "---------------------------------------\n",
      "'류현진' 언급한 임도헌 감독 \"힘보다 중요한건 정확성\"\n",
      "http://v.media.daum.net/v/20190718115808908?f=o\n",
      "---------------------------------------\n",
      "다음뉴스\n",
      "http://v.media.daum.net/v/20190718115808908\n",
      "---------------------------------------\n",
      "\n",
      "http://v.media.daum.net/v/20190717183002840?f=o\n",
      "---------------------------------------\n",
      "억울한 자책점? \"류현진 ERA, 조정될 가능성 있다\"\n",
      "http://v.media.daum.net/v/20190717183002840?f=o\n",
      "---------------------------------------\n",
      "다음뉴스\n",
      "http://v.media.daum.net/v/20190717183002840\n",
      "---------------------------------------\n"
     ]
    }
   ],
   "source": [
    "for link in links:\n",
    "    print(link.get_text())\n",
    "    print(link['href'])\n",
    "    print('---------------------------------------')"
   ]
  },
  {
   "cell_type": "code",
   "execution_count": 23,
   "metadata": {},
   "outputs": [
    {
     "name": "stdout",
     "output_type": "stream",
     "text": [
      "남자 배구 감독 임도헌, 돌연 류현진 말한 이유\n",
      "http://v.media.daum.net/v/20190718123053781?f=o\n",
      "---------------------------------------\n",
      "'11승 예감' 류현진, 20일 리그 최약체 마이애미전 선발 등판\n",
      "http://v.media.daum.net/v/20190718100647765?f=o\n",
      "---------------------------------------\n",
      "'안방불패..7승무패, ERA 0.85' 류현진, 20일 '극약' 마이애미 상대\n",
      "http://v.media.daum.net/v/20190718102054299?f=o\n",
      "---------------------------------------\n",
      "[류현진 타임]류현진, '0승 신인투수' 잭 갤런과 20일 선발 격돌.....\n",
      "http://v.media.daum.net/v/20190718111832064?f=o\n",
      "---------------------------------------\n",
      "이변 노리는 임도헌 감독의 색깔 \"옛날 배구, 그리고 류현진처럼\"\n",
      "http://v.media.daum.net/v/20190718114338370?f=o\n",
      "---------------------------------------\n",
      "[야구는 구라다] 류현진 디스카운트\n",
      "http://v.media.daum.net/v/NV0ZqdTcDS?f=o\n",
      "---------------------------------------\n",
      "홈에서 최약체 MIA 만나는 류현진, 승리 이상 노릴 '절호의 기회'\n",
      "http://v.media.daum.net/v/20190718115949965?f=o\n",
      "---------------------------------------\n",
      "'올스타 원정대', 류현진♥배지현→MLB 레전드들이 말하는 '괴물'.....\n",
      "http://v.media.daum.net/v/20190718114555467?f=o\n",
      "---------------------------------------\n",
      "'류현진' 언급한 임도헌 감독 \"힘보다 중요한건 정확성\"\n",
      "http://v.media.daum.net/v/20190718115808908?f=o\n",
      "---------------------------------------\n",
      "억울한 자책점? \"류현진 ERA, 조정될 가능성 있다\"\n",
      "http://v.media.daum.net/v/20190717183002840?f=o\n",
      "---------------------------------------\n"
     ]
    }
   ],
   "source": [
    "table = html.select('#clusterResultUL')[0]\n",
    "titles = table.select('.wrap_tit.mg_tit')\n",
    "for title in titles:\n",
    "    link = title.select('a[href]')[0]\n",
    "    print(link.get_text())\n",
    "    print(link['href'])\n",
    "    print('---------------------------------------')"
   ]
  },
  {
   "cell_type": "code",
   "execution_count": null,
   "metadata": {},
   "outputs": [],
   "source": []
  }
 ],
 "metadata": {
  "kernelspec": {
   "display_name": "Python 3",
   "language": "python",
   "name": "python3"
  },
  "language_info": {
   "codemirror_mode": {
    "name": "ipython",
    "version": 3
   },
   "file_extension": ".py",
   "mimetype": "text/x-python",
   "name": "python",
   "nbconvert_exporter": "python",
   "pygments_lexer": "ipython3",
   "version": "3.7.3"
  }
 },
 "nbformat": 4,
 "nbformat_minor": 4
}
