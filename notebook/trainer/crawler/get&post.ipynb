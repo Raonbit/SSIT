{
 "cells": [
  {
   "cell_type": "markdown",
   "metadata": {},
   "source": [
    "## get"
   ]
  },
  {
   "cell_type": "code",
   "execution_count": 1,
   "metadata": {},
   "outputs": [
    {
     "data": {
      "text/plain": [
       "200"
      ]
     },
     "execution_count": 1,
     "metadata": {},
     "output_type": "execute_result"
    }
   ],
   "source": [
    "import requests \n",
    "  \n",
    "URL = \"https://search.naver.com/search.naver\"  \n",
    "# defining a params dict for the parameters to be sent to the API \n",
    "PARAMS = {'query':'류현진'} \n",
    "r = requests.get(url = URL, params = PARAMS) \n",
    "  \n",
    "r.status_code"
   ]
  },
  {
   "cell_type": "markdown",
   "metadata": {},
   "source": [
    "## post"
   ]
  },
  {
   "cell_type": "code",
   "execution_count": 2,
   "metadata": {},
   "outputs": [
    {
     "data": {
      "text/plain": [
       "403"
      ]
     },
     "execution_count": 2,
     "metadata": {},
     "output_type": "execute_result"
    }
   ],
   "source": [
    "URL = 'https://search.naver.com/search.naver'\n",
    "data = {'query':'류현진'}\n",
    "r = requests.post(url = URL, data = data) \n",
    "  \n",
    "r.status_code"
   ]
  },
  {
   "cell_type": "code",
   "execution_count": 3,
   "metadata": {},
   "outputs": [
    {
     "data": {
      "text/plain": [
       "200"
      ]
     },
     "execution_count": 3,
     "metadata": {},
     "output_type": "execute_result"
    }
   ],
   "source": [
    "URL = 'https://search.daum.net/search'\n",
    "data = {'q':'류현진'}\n",
    "r = requests.post(url = URL, data = data) \n",
    "  \n",
    "r.status_code"
   ]
  },
  {
   "cell_type": "markdown",
   "metadata": {},
   "source": [
    "## encoding"
   ]
  },
  {
   "cell_type": "code",
   "execution_count": 4,
   "metadata": {},
   "outputs": [
    {
     "data": {
      "text/plain": [
       "'코스피지수'"
      ]
     },
     "execution_count": 4,
     "metadata": {},
     "output_type": "execute_result"
    }
   ],
   "source": [
    "s = b'\\xc4\\xda\\xbd\\xba\\xc7\\xc7\\xc1\\xf6\\xbc\\xf6'\n",
    "s.decode('euc-kr')"
   ]
  },
  {
   "cell_type": "code",
   "execution_count": 5,
   "metadata": {},
   "outputs": [
    {
     "data": {
      "text/plain": [
       "{'encoding': 'EUC-KR', 'confidence': 0.99, 'language': 'Korean'}"
      ]
     },
     "execution_count": 5,
     "metadata": {},
     "output_type": "execute_result"
    }
   ],
   "source": [
    "import chardet \n",
    "chardet.detect(s)"
   ]
  },
  {
   "cell_type": "code",
   "execution_count": 6,
   "metadata": {},
   "outputs": [
    {
     "name": "stdout",
     "output_type": "stream",
     "text": [
      "b'\\xbe\\xc6\\xb8\\xa7\\xb4\\xd9\\xbf\\xee'\n",
      "b'\\xbe\\xc6\\xb8\\xa7\\xb4\\xd9\\xbf\\xee'\n",
      "b'\\xec\\x95\\x84\\xeb\\xa6\\x84\\xeb\\x8b\\xa4\\xec\\x9a\\xb4'\n",
      "b'\\xff\\xfeD\\xc5\\x84\\xb9\\xe4\\xb2\\xb4\\xc6'\n"
     ]
    }
   ],
   "source": [
    "print('아름다운'.encode('euc-kr'))\n",
    "print('아름다운'.encode('cp949'))\n",
    "print('아름다운'.encode('utf-8'))\n",
    "print('아름다운'.encode('utf-16'))"
   ]
  },
  {
   "cell_type": "code",
   "execution_count": null,
   "metadata": {},
   "outputs": [],
   "source": []
  }
 ],
 "metadata": {
  "kernelspec": {
   "display_name": "Python 3",
   "language": "python",
   "name": "python3"
  },
  "language_info": {
   "codemirror_mode": {
    "name": "ipython",
    "version": 3
   },
   "file_extension": ".py",
   "mimetype": "text/x-python",
   "name": "python",
   "nbconvert_exporter": "python",
   "pygments_lexer": "ipython3",
   "version": "3.7.3"
  }
 },
 "nbformat": 4,
 "nbformat_minor": 4
}
