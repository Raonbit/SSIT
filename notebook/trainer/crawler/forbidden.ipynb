{
 "cells": [
  {
   "cell_type": "code",
   "execution_count": 1,
   "metadata": {},
   "outputs": [
    {
     "data": {
      "text/html": [
       "<a href=\"https://finance.daum.net/\">다음 금융</a>\n"
      ],
      "text/plain": [
       "<IPython.core.display.HTML object>"
      ]
     },
     "metadata": {},
     "output_type": "display_data"
    }
   ],
   "source": [
    "%%html\n",
    "<a href=\"https://finance.daum.net/\">다음 금융</a>"
   ]
  },
  {
   "cell_type": "code",
   "execution_count": 2,
   "metadata": {},
   "outputs": [],
   "source": [
    "import requests\n",
    "url = 'https://finance.daum.net/quotes/A005930?period=day#home'\n",
    "response = requests.get(url)\n",
    "\n",
    "from bs4 import BeautifulSoup as bs\n",
    "html = bs(response.text)"
   ]
  },
  {
   "cell_type": "code",
   "execution_count": 8,
   "metadata": {},
   "outputs": [
    {
     "data": {
      "text/plain": [
       "[]"
      ]
     },
     "execution_count": 8,
     "metadata": {},
     "output_type": "execute_result"
    }
   ],
   "source": [
    "upper = html.select('#boxDashboard > div > div > span.txtB > dl > dd:nth-child(2) > p')\n",
    "upper"
   ]
  },
  {
   "cell_type": "code",
   "execution_count": 3,
   "metadata": {},
   "outputs": [
    {
     "data": {
      "text/plain": [
       "<Response [403]>"
      ]
     },
     "execution_count": 3,
     "metadata": {},
     "output_type": "execute_result"
    }
   ],
   "source": [
    "info = requests.get('https://finance.daum.net/api/quotes/A005930?summary=false&changeStatistics=true')\n",
    "info"
   ]
  },
  {
   "cell_type": "code",
   "execution_count": 4,
   "metadata": {},
   "outputs": [
    {
     "data": {
      "text/plain": [
       "<Response [403]>"
      ]
     },
     "execution_count": 4,
     "metadata": {},
     "output_type": "execute_result"
    }
   ],
   "source": [
    "info"
   ]
  },
  {
   "cell_type": "code",
   "execution_count": 5,
   "metadata": {},
   "outputs": [
    {
     "data": {
      "text/plain": [
       "<Response [200]>"
      ]
     },
     "execution_count": 5,
     "metadata": {},
     "output_type": "execute_result"
    }
   ],
   "source": [
    "headers = {'User-Agent':'Mozilla/5.0', 'referer' : 'http://www.daum.net'}\n",
    "info = requests.get('https://finance.daum.net/api/quotes/A005930?summary=false&changeStatistics=true', headers=headers)\n",
    "info"
   ]
  },
  {
   "cell_type": "code",
   "execution_count": 6,
   "metadata": {},
   "outputs": [
    {
     "data": {
      "text/plain": [
       "'{\"symbolCode\":\"A005930\",\"code\":\"KR7005930003\",\"openingPrice\":46450,\"highPrice\":46450,\"lowPrice\":45650,\"tradePrice\":46000,\"prevClosingPrice\":46050,\"change\":\"FALL\",\"changePrice\":50,\"changeRate\":0.0010857763,\"name\":\"삼성전자\",\"date\":\"2019-07-18\",\"tradeDate\":\"20190718\",\"tradeTime\":\"132703\",\"exchangeDate\":\"2019-07-18 13:27:03\",\"exchangeCountry\":\"KOREA\",\"securityGroup\":\"STOCK\",\"market\":\"KOSPI\",\"isIndex\":false,\"accTradePrice\":135608626900,\"accTradeVolume\":2946706,\"prevAccTradeVolume\":5216602,\"prevAccTradeVolumeChangeRate\":0.5648707721999876,\"marketCap\":274609997300000,\"marketCapRank\":1,\"high52wPrice\":48450.0,\"high52wDate\":\"2018-08-31\",\"low52wPrice\":36850.0,\"low52wDate\":\"2019-01-04\",\"basePrice\":46050.0,\"upperLimitPrice\":59800.0,\"lowerLimitPrice\":32250.0,\"foreignRatio\":57.71,\"prevForeignRatio\":0.002,\"foreignOwnShares\":3445022864,\"parValue\":100.0,\"eps\":6461.0,\"dps\":1416,\"per\":7.13,\"bps\":35342,\"pbr\":1.3,\"sectorCode\":\"013\",\"sectorName\":\"전기,전자\",\"sectorChangeRate\":0.0007762052,\"wicsSectorCode\":\"G453010\",\"wicsSectorName\":\"반도체와 반도체 장비\",\"wicsSectorChangeRate\":0.0162002301,\"investorSummary\":{\"individualStraightPurchasePrice\":-7961256000,\"institutionStraightPurchasePrice\":2077423000,\"foreignStraightPurchasePrice\":6167347000,\"programStraightPurchasePrice\":-25388987333},\"changeStatistics\":null,\"chartImageUrl\":{\"day\":\"https://t1.daumcdn.net/finance/chart/kr/daumstock/d/A005930.png\",\"month\":\"https://t1.daumcdn.net/finance/chart/kr/daumstock/m/A005930.png\",\"month3\":\"https://t1.daumcdn.net/finance/chart/kr/daumstock/m3/A005930.png\",\"year\":\"https://t1.daumcdn.net/finance/chart/kr/daumstock/y/A005930.png\",\"year3\":\"https://t1.daumcdn.net/finance/chart/kr/daumstock/y3/A005930.png\"},\"currency\":\"KRW\",\"exchange\":null,\"earlyYearPrice\":null,\"lastWeekPrice\":null,\"listedShareCount\":5969782550,\"sectorPer\":6.77529,\"listingDate\":\"1975-06-11\",\"settleMonth\":12,\"high50dPrice\":47400.0,\"low50dPrice\":41300.0,\"highInYearPrice\":47600.0,\"lowInYearPrice\":36850.0,\"capitalStock\":778046685000.0,\"bidPrice\":46000,\"askPrice\":46050,\"companySummary\":\"한국 및 CE, IM부문 해외 9개 지역총괄과 DS부문 해외 5개 지역총괄, Harman 등 252개의 종속기업으로 구성된 글로벌 전자기업임.\\\\n세트사업에는 TV, 냉장고 등을 생산하는 CE부문과 스마트폰, 네트워크시스템, 컴퓨터 등을 생산하는 IM부문이 있음.\\\\n부품사업에서는 D램, 낸드 플래쉬, 모바일AP 등의 제품을 생산하는 반도체 사업과 TFT-LCD 및 OLED 디스플레이 패널을 생산하는 DP사업의 DS부문으로 구성됨.\\\\n\\\\n\",\"stockState\":{\"isBackDoorListed\":false,\"marketWarning\":\"NONE\",\"isTradingSuspended\":false,\"parValueChange\":\"NONE\",\"isUnfaithfulDisclosureDesignated\":false,\"ex\":\"NONE\",\"isAdministrativeIssue\":false,\"revaluation\":\"NONE\",\"isPreDelistingTrading\":false,\"isLowLiquidity\":false},\"chartSlideImage\":null,\"debtRatio\":36.275,\"sales\":52385546000000.0,\"operatingProfit\":6233282000000.0,\"preTaxProfit\":69130,\"netIncome\":5043585000000.0,\"signedChangeRate5daysAgo\":-0.0064935065,\"signedChangeRate20daysAgo\":0.0087912088,\"signedChangeRate60daysAgo\":0.0121278942,\"signedChangeRate120daysAgo\":0.0889679715,\"signedChangeRate250daysAgo\":-0.002173913,\"prevClosingPrice5daysAgo\":46200.0,\"prevClosingPrice20daysAgo\":45500.0,\"prevClosingPrice60daysAgo\":45350.0,\"prevClosingPrice120daysAgo\":42150.0,\"prevClosingPrice250daysAgo\":46000.0,\"timestamp\":1563424023268,\"isClosing\":false}'"
      ]
     },
     "execution_count": 6,
     "metadata": {},
     "output_type": "execute_result"
    }
   ],
   "source": [
    "info.text"
   ]
  },
  {
   "cell_type": "code",
   "execution_count": 7,
   "metadata": {},
   "outputs": [
    {
     "data": {
      "text/plain": [
       "{'symbolCode': 'A005930',\n",
       " 'code': 'KR7005930003',\n",
       " 'openingPrice': 46450,\n",
       " 'highPrice': 46450,\n",
       " 'lowPrice': 45650,\n",
       " 'tradePrice': 46000,\n",
       " 'prevClosingPrice': 46050,\n",
       " 'change': 'FALL',\n",
       " 'changePrice': 50,\n",
       " 'changeRate': 0.0010857763,\n",
       " 'name': '삼성전자',\n",
       " 'date': '2019-07-18',\n",
       " 'tradeDate': '20190718',\n",
       " 'tradeTime': '132703',\n",
       " 'exchangeDate': '2019-07-18 13:27:03',\n",
       " 'exchangeCountry': 'KOREA',\n",
       " 'securityGroup': 'STOCK',\n",
       " 'market': 'KOSPI',\n",
       " 'isIndex': False,\n",
       " 'accTradePrice': 135608626900,\n",
       " 'accTradeVolume': 2946706,\n",
       " 'prevAccTradeVolume': 5216602,\n",
       " 'prevAccTradeVolumeChangeRate': 0.5648707721999876,\n",
       " 'marketCap': 274609997300000,\n",
       " 'marketCapRank': 1,\n",
       " 'high52wPrice': 48450.0,\n",
       " 'high52wDate': '2018-08-31',\n",
       " 'low52wPrice': 36850.0,\n",
       " 'low52wDate': '2019-01-04',\n",
       " 'basePrice': 46050.0,\n",
       " 'upperLimitPrice': 59800.0,\n",
       " 'lowerLimitPrice': 32250.0,\n",
       " 'foreignRatio': 57.71,\n",
       " 'prevForeignRatio': 0.002,\n",
       " 'foreignOwnShares': 3445022864,\n",
       " 'parValue': 100.0,\n",
       " 'eps': 6461.0,\n",
       " 'dps': 1416,\n",
       " 'per': 7.13,\n",
       " 'bps': 35342,\n",
       " 'pbr': 1.3,\n",
       " 'sectorCode': '013',\n",
       " 'sectorName': '전기,전자',\n",
       " 'sectorChangeRate': 0.0007762052,\n",
       " 'wicsSectorCode': 'G453010',\n",
       " 'wicsSectorName': '반도체와 반도체 장비',\n",
       " 'wicsSectorChangeRate': 0.0162002301,\n",
       " 'investorSummary': {'individualStraightPurchasePrice': -7961256000,\n",
       "  'institutionStraightPurchasePrice': 2077423000,\n",
       "  'foreignStraightPurchasePrice': 6167347000,\n",
       "  'programStraightPurchasePrice': -25388987333},\n",
       " 'changeStatistics': None,\n",
       " 'chartImageUrl': {'day': 'https://t1.daumcdn.net/finance/chart/kr/daumstock/d/A005930.png',\n",
       "  'month': 'https://t1.daumcdn.net/finance/chart/kr/daumstock/m/A005930.png',\n",
       "  'month3': 'https://t1.daumcdn.net/finance/chart/kr/daumstock/m3/A005930.png',\n",
       "  'year': 'https://t1.daumcdn.net/finance/chart/kr/daumstock/y/A005930.png',\n",
       "  'year3': 'https://t1.daumcdn.net/finance/chart/kr/daumstock/y3/A005930.png'},\n",
       " 'currency': 'KRW',\n",
       " 'exchange': None,\n",
       " 'earlyYearPrice': None,\n",
       " 'lastWeekPrice': None,\n",
       " 'listedShareCount': 5969782550,\n",
       " 'sectorPer': 6.77529,\n",
       " 'listingDate': '1975-06-11',\n",
       " 'settleMonth': 12,\n",
       " 'high50dPrice': 47400.0,\n",
       " 'low50dPrice': 41300.0,\n",
       " 'highInYearPrice': 47600.0,\n",
       " 'lowInYearPrice': 36850.0,\n",
       " 'capitalStock': 778046685000.0,\n",
       " 'bidPrice': 46000,\n",
       " 'askPrice': 46050,\n",
       " 'companySummary': '한국 및 CE, IM부문 해외 9개 지역총괄과 DS부문 해외 5개 지역총괄, Harman 등 252개의 종속기업으로 구성된 글로벌 전자기업임.\\n세트사업에는 TV, 냉장고 등을 생산하는 CE부문과 스마트폰, 네트워크시스템, 컴퓨터 등을 생산하는 IM부문이 있음.\\n부품사업에서는 D램, 낸드 플래쉬, 모바일AP 등의 제품을 생산하는 반도체 사업과 TFT-LCD 및 OLED 디스플레이 패널을 생산하는 DP사업의 DS부문으로 구성됨.\\n\\n',\n",
       " 'stockState': {'isBackDoorListed': False,\n",
       "  'marketWarning': 'NONE',\n",
       "  'isTradingSuspended': False,\n",
       "  'parValueChange': 'NONE',\n",
       "  'isUnfaithfulDisclosureDesignated': False,\n",
       "  'ex': 'NONE',\n",
       "  'isAdministrativeIssue': False,\n",
       "  'revaluation': 'NONE',\n",
       "  'isPreDelistingTrading': False,\n",
       "  'isLowLiquidity': False},\n",
       " 'chartSlideImage': None,\n",
       " 'debtRatio': 36.275,\n",
       " 'sales': 52385546000000.0,\n",
       " 'operatingProfit': 6233282000000.0,\n",
       " 'preTaxProfit': 69130,\n",
       " 'netIncome': 5043585000000.0,\n",
       " 'signedChangeRate5daysAgo': -0.0064935065,\n",
       " 'signedChangeRate20daysAgo': 0.0087912088,\n",
       " 'signedChangeRate60daysAgo': 0.0121278942,\n",
       " 'signedChangeRate120daysAgo': 0.0889679715,\n",
       " 'signedChangeRate250daysAgo': -0.002173913,\n",
       " 'prevClosingPrice5daysAgo': 46200.0,\n",
       " 'prevClosingPrice20daysAgo': 45500.0,\n",
       " 'prevClosingPrice60daysAgo': 45350.0,\n",
       " 'prevClosingPrice120daysAgo': 42150.0,\n",
       " 'prevClosingPrice250daysAgo': 46000.0,\n",
       " 'timestamp': 1563424023268,\n",
       " 'isClosing': False}"
      ]
     },
     "execution_count": 7,
     "metadata": {},
     "output_type": "execute_result"
    }
   ],
   "source": [
    "import json\n",
    "jsondata = json.loads(info.text)\n",
    "jsondata"
   ]
  },
  {
   "cell_type": "code",
   "execution_count": 8,
   "metadata": {},
   "outputs": [
    {
     "data": {
      "text/plain": [
       "7.13"
      ]
     },
     "execution_count": 8,
     "metadata": {},
     "output_type": "execute_result"
    }
   ],
   "source": [
    "jsondata['per']"
   ]
  },
  {
   "cell_type": "code",
   "execution_count": null,
   "metadata": {},
   "outputs": [],
   "source": []
  }
 ],
 "metadata": {
  "kernelspec": {
   "display_name": "Python 3",
   "language": "python",
   "name": "python3"
  },
  "language_info": {
   "codemirror_mode": {
    "name": "ipython",
    "version": 3
   },
   "file_extension": ".py",
   "mimetype": "text/x-python",
   "name": "python",
   "nbconvert_exporter": "python",
   "pygments_lexer": "ipython3",
   "version": "3.7.3"
  }
 },
 "nbformat": 4,
 "nbformat_minor": 4
}
