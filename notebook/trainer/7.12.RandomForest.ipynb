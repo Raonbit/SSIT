{
 "cells": [
  {
   "cell_type": "code",
   "execution_count": 2,
   "metadata": {},
   "outputs": [
    {
     "data": {
      "text/plain": [
       "RandomForestRegressor(bootstrap=True, criterion='mse', max_depth=None,\n",
       "                      max_features='auto', max_leaf_nodes=None,\n",
       "                      min_impurity_decrease=0.0, min_impurity_split=None,\n",
       "                      min_samples_leaf=1, min_samples_split=2,\n",
       "                      min_weight_fraction_leaf=0.0, n_estimators=100,\n",
       "                      n_jobs=None, oob_score=False, random_state=None,\n",
       "                      verbose=0, warm_start=False)"
      ]
     },
     "execution_count": 2,
     "metadata": {},
     "output_type": "execute_result"
    }
   ],
   "source": [
    "from sklearn.ensemble import RandomForestRegressor\n",
    "import numpy as np\n",
    "from sklearn.datasets import load_boston\n",
    "from sklearn.model_selection import train_test_split\n",
    "\n",
    "boston = load_boston()\n",
    "X = boston.data\n",
    "y = boston.target\n",
    "X_train, X_test, y_train, y_test = train_test_split(X, y, test_size=0.3, random_state=0)\n",
    "\n",
    "rf = RandomForestRegressor(n_estimators=100)\n",
    "rf.fit(X_train, y_train)"
   ]
  },
  {
   "cell_type": "code",
   "execution_count": 3,
   "metadata": {},
   "outputs": [
    {
     "data": {
      "text/plain": [
       "0.8369309256761794"
      ]
     },
     "execution_count": 3,
     "metadata": {},
     "output_type": "execute_result"
    }
   ],
   "source": [
    "rf.score(X_test, y_test)"
   ]
  },
  {
   "cell_type": "code",
   "execution_count": 21,
   "metadata": {},
   "outputs": [
    {
     "name": "stdout",
     "output_type": "stream",
     "text": [
      "Instance 0 - origin : 8.8, prediction : 8.272999999999996\n",
      "Instance 1 - origin : 23.8, prediction : 23.748999999999977\n"
     ]
    }
   ],
   "source": [
    "predictSample = X_test[[10, 20]]\n",
    "print(\"Instance 0 - origin : %s, prediction : %s\" % (str(y_test[10]), str(rf.predict(predictSample[0].reshape(1,-1))[0])))\n",
    "print(\"Instance 1 - origin : %s, prediction : %s\" % (str(y_test[20]), str(rf.predict(predictSample[1].reshape(1,-1))[0])))"
   ]
  },
  {
   "cell_type": "markdown",
   "metadata": {},
   "source": [
    "### 모델 해석"
   ]
  },
  {
   "cell_type": "code",
   "execution_count": 24,
   "metadata": {},
   "outputs": [
    {
     "name": "stdout",
     "output_type": "stream",
     "text": [
      "Instance : 0\n",
      "Bias (trainset mean) : 22.720542\n",
      "Feature contributions:\n",
      "LSTAT -6.12\n",
      "CRIM -4.64\n",
      "RM -1.85\n",
      "NOX -0.83\n",
      "DIS -0.55\n",
      "AGE -0.34\n",
      "TAX -0.27\n",
      "B 0.18\n",
      "PTRATIO -0.02\n",
      "RAD -0.0\n",
      "ZN 0.0\n",
      "INDUS 0.0\n",
      "CHAS 0.0\n",
      "prediction : 8.273000 \n",
      "bias + sum of contribution : 8.273000 \n",
      "--------------------\n",
      "Instance : 1\n",
      "Bias (trainset mean) : 22.720542\n",
      "Feature contributions:\n",
      "LSTAT 5.7\n",
      "RM -4.08\n",
      "AGE -0.27\n",
      "TAX -0.16\n",
      "CRIM 0.15\n",
      "DIS -0.14\n",
      "B -0.11\n",
      "PTRATIO -0.07\n",
      "INDUS -0.05\n",
      "ZN 0.05\n",
      "NOX 0.03\n",
      "RAD -0.02\n",
      "CHAS -0.0\n",
      "prediction : 23.749000 \n",
      "bias + sum of contribution : 23.749000 \n",
      "--------------------\n"
     ]
    }
   ],
   "source": [
    "from treeinterpreter import treeinterpreter as ti\n",
    "\n",
    "prediction, bias, contributions = ti.predict(rf, predictSample)\n",
    "for i in range(len(predictSample)):\n",
    "    print(\"Instance : %d\" % i)\n",
    "    print(\"Bias (trainset mean) : %f\" % bias[i])\n",
    "    print(\"Feature contributions:\")\n",
    "    for c, feature in sorted(zip(contributions[i], \n",
    "                                 boston.feature_names), \n",
    "                             key=lambda x: -abs(x[0])):\n",
    "        print(feature, round(c, 2))\n",
    "    print('prediction : %f ' % prediction[i])\n",
    "    print('bias + sum of contribution : %f ' % (bias[i] + np.sum(contributions[i])))    \n",
    "    print(\"-\"*20) "
   ]
  },
  {
   "cell_type": "markdown",
   "metadata": {},
   "source": [
    "### dataset 간의 비교"
   ]
  },
  {
   "cell_type": "code",
   "execution_count": 5,
   "metadata": {},
   "outputs": [
    {
     "data": {
      "text/plain": [
       "(152, 13)"
      ]
     },
     "execution_count": 5,
     "metadata": {},
     "output_type": "execute_result"
    }
   ],
   "source": [
    "X_test.shape"
   ]
  },
  {
   "cell_type": "code",
   "execution_count": 25,
   "metadata": {},
   "outputs": [],
   "source": [
    "ds1 = X_test.data[0:76]\n",
    "ds2 = X_test.data[76:]\n",
    "\n",
    "prediction1, bias1, contributions1 = ti.predict(rf, ds1)\n",
    "prediction2, bias2, contributions2 = ti.predict(rf, ds2)"
   ]
  },
  {
   "cell_type": "code",
   "execution_count": 26,
   "metadata": {},
   "outputs": [
    {
     "name": "stdout",
     "output_type": "stream",
     "text": [
      "0.0\n",
      "-0.4914736842105273\n",
      "-0.49147368421052917\n"
     ]
    }
   ],
   "source": [
    "totalc1 = np.mean(contributions1, axis=0) \n",
    "totalc2 = np.mean(contributions2, axis=0) \n",
    "\n",
    "# bias 는 동일, prediction의 차이는 contribution의 차이\n",
    "print(np.sum(bias1) - np.sum(bias2))\n",
    "print(np.sum(totalc1 - totalc2))\n",
    "print(np.mean(prediction1) - np.mean(prediction2))"
   ]
  },
  {
   "cell_type": "code",
   "execution_count": 27,
   "metadata": {},
   "outputs": [
    {
     "name": "stdout",
     "output_type": "stream",
     "text": [
      "DIS 0.32\n",
      "LSTAT 0.24\n",
      "NOX 0.11\n",
      "RAD 0.05\n",
      "AGE 0.02\n",
      "ZN 0.0\n",
      "CRIM 0.0\n",
      "TAX -0.0\n",
      "CHAS -0.0\n",
      "INDUS -0.03\n",
      "PTRATIO -0.05\n",
      "B -0.07\n",
      "RM -1.09\n"
     ]
    }
   ],
   "source": [
    "for c, feature in sorted(zip(totalc1 - totalc2, \n",
    "                             boston.feature_names), reverse=True):\n",
    "    print(feature, round(c, 2))"
   ]
  },
  {
   "cell_type": "markdown",
   "metadata": {},
   "source": [
    "### classification"
   ]
  },
  {
   "cell_type": "code",
   "execution_count": 29,
   "metadata": {},
   "outputs": [
    {
     "name": "stdout",
     "output_type": "stream",
     "text": [
      "Prediction  [[0.         0.00489952 0.99510048]]\n",
      "Bias (trainset prior)  [[0.34173333 0.33186667 0.3264    ]]\n",
      "Feature contributions:\n",
      "sepal length (cm) [-0.03720165 -0.00507233  0.04227398]\n",
      "sepal width (cm) [ 0.          0.00243217 -0.00243217]\n",
      "petal length (cm) [-0.18791449 -0.13505514  0.32296964]\n",
      "petal width (cm) [-0.11661719 -0.18927184  0.30588903]\n"
     ]
    }
   ],
   "source": [
    "from sklearn.ensemble import RandomForestClassifier\n",
    "from sklearn.datasets import load_iris\n",
    "iris = load_iris()\n",
    " \n",
    "rf = RandomForestClassifier(max_depth = 4, n_estimators=100)\n",
    "rf.fit(iris.data, iris.target)\n",
    "\n",
    "instance = iris.data[100:101]\n",
    "prediction, bias, contributions = ti.predict(rf, instance)\n",
    "print(\"Prediction \", prediction)\n",
    "print(\"Bias (trainset prior) \", bias)\n",
    "print(\"Feature contributions:\")\n",
    "for c, feature in zip(contributions[0], iris.feature_names):\n",
    "    print(feature, c)"
   ]
  },
  {
   "cell_type": "code",
   "execution_count": 39,
   "metadata": {},
   "outputs": [
    {
     "name": "stdout",
     "output_type": "stream",
     "text": [
      "Feature ranking:\n",
      "1. feature 2 (0.514424)\n",
      "2. feature 3 (0.398243)\n",
      "3. feature 0 (0.069499)\n",
      "4. feature 1 (0.017834)\n"
     ]
    },
    {
     "data": {
      "image/png": "[encoded data removed]",
      "text/plain": [
       "<Figure size 432x288 with 1 Axes>"
      ]
     },
     "metadata": {
      "needs_background": "light"
     },
     "output_type": "display_data"
    }
   ],
   "source": [
    "import matplotlib.pyplot as plt\n",
    "\n",
    "importances = rf.feature_importances_\n",
    "std = np.std([tree.feature_importances_ for tree in rf.estimators_],\n",
    "             axis=0)\n",
    "indices = np.argsort(importances)[::-1]\n",
    "\n",
    "# Print the feature ranking\n",
    "print(\"Feature ranking:\")\n",
    "\n",
    "for f in range(iris.data.shape[1]):\n",
    "    print(\"%d. feature %d (%f)\" % (f + 1, indices[f], importances[indices[f]]))\n",
    "\n",
    "# Plot the feature importances of the forest\n",
    "plt.figure()\n",
    "plt.title(\"Feature importances\")\n",
    "plt.bar(range(iris.data.shape[1]), importances[indices],\n",
    "       color=\"r\", yerr=std[indices], align=\"center\")\n",
    "ticklabel = [iris.feature_names[x] for x in indices]\n",
    "plt.xticks(range(iris.data.shape[1]), ticklabel, rotation='vertical')\n",
    "plt.xlabel(['a', 'a', 'a', 'a'])\n",
    "plt.show()"
   ]
  },
  {
   "cell_type": "code",
   "execution_count": 35,
   "metadata": {},
   "outputs": [
    {
     "data": {
      "text/plain": [
       "['sepal length (cm)',\n",
       " 'sepal width (cm)',\n",
       " 'petal length (cm)',\n",
       " 'petal width (cm)']"
      ]
     },
     "execution_count": 35,
     "metadata": {},
     "output_type": "execute_result"
    }
   ],
   "source": [
    "iris.feature_names"
   ]
  },
  {
   "cell_type": "code",
   "execution_count": 36,
   "metadata": {},
   "outputs": [
    {
     "data": {
      "text/plain": [
       "array([2, 3, 0, 1], dtype=int64)"
      ]
     },
     "execution_count": 36,
     "metadata": {},
     "output_type": "execute_result"
    }
   ],
   "source": [
    "indices"
   ]
  },
  {
   "cell_type": "code",
   "execution_count": null,
   "metadata": {},
   "outputs": [],
   "source": []
  }
 ],
 "metadata": {
  "kernelspec": {
   "display_name": "Python 3",
   "language": "python",
   "name": "python3"
  },
  "language_info": {
   "codemirror_mode": {
    "name": "ipython",
    "version": 3
   },
   "file_extension": ".py",
   "mimetype": "text/x-python",
   "name": "python",
   "nbconvert_exporter": "python",
   "pygments_lexer": "ipython3",
   "version": "3.6.7"
  }
 },
 "nbformat": 4,
 "nbformat_minor": 4
}
