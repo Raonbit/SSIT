{
 "cells": [
  {
   "cell_type": "markdown",
   "metadata": {},
   "source": [
    "# Histograms"
   ]
  },
  {
   "cell_type": "code",
   "execution_count": 1,
   "metadata": {},
   "outputs": [
    {
     "name": "stderr",
     "output_type": "stream",
     "text": [
      "c:\\users\\iwannab1\\anaconda37\\envs\\fraudit\\lib\\site-packages\\numpy\\_distributor_init.py:32: UserWarning: loaded more than 1 DLL from .libs:\n",
      "c:\\users\\iwannab1\\anaconda37\\envs\\fraudit\\lib\\site-packages\\numpy\\.libs\\libopenblas.IPBC74C7KURV7CB2PKT5Z5FNR3SIBV4J.gfortran-win_amd64.dll\n",
      "c:\\users\\iwannab1\\anaconda37\\envs\\fraudit\\lib\\site-packages\\numpy\\.libs\\libopenblas.TXA6YQSD3GCQQC22GEQ54J2UDCXDXHWN.gfortran-win_amd64.dll\n",
      "  stacklevel=1)\n"
     ]
    }
   ],
   "source": [
    "%matplotlib inline\n",
    "import numpy as np\n",
    "import matplotlib.pyplot as plt\n",
    "plt.style.use('seaborn-white')\n",
    "\n",
    "data = np.random.randn(1000)"
   ]
  },
  {
   "cell_type": "code",
   "execution_count": 6,
   "metadata": {
    "collapsed": false,
    "jupyter": {
     "outputs_hidden": false
    }
   },
   "outputs": [
    {
     "data": {
      "text/plain": [
       "(array([ 12.,  24.,  82., 172., 231., 210., 156.,  82.,  22.,   9.]),\n",
       " array([-2.99442141, -2.3945901 , -1.79475879, -1.19492748, -0.59509616,\n",
       "         0.00473515,  0.60456646,  1.20439777,  1.80422909,  2.4040604 ,\n",
       "         3.00389171]),\n",
       " <a list of 10 Patch objects>)"
      ]
     },
     "execution_count": 6,
     "metadata": {},
     "output_type": "execute_result"
    },
    {
     "data": {
      "image/png": "[encoded data removed]",
      "text/plain": [
       "<Figure size 432x288 with 1 Axes>"
      ]
     },
     "metadata": {
      "needs_background": "light"
     },
     "output_type": "display_data"
    }
   ],
   "source": [
    "plt.hist(data)"
   ]
  },
  {
   "cell_type": "code",
   "execution_count": 7,
   "metadata": {
    "collapsed": false,
    "jupyter": {
     "outputs_hidden": false
    }
   },
   "outputs": [
    {
     "data": {
      "text/plain": [
       "(array([0.02000562, 0.02500703, 0.01500422, 0.01500422, 0.02000562,\n",
       "        0.0850239 , 0.10502953, 0.160045  , 0.14504078, 0.22006187,\n",
       "        0.36510265, 0.27507734, 0.40011249, 0.37010405, 0.38510827,\n",
       "        0.39010968, 0.4051139 , 0.25507171, 0.29008156, 0.31008718,\n",
       "        0.18005062, 0.19505484, 0.11003093, 0.10502953, 0.06501828,\n",
       "        0.03500984, 0.01000281, 0.02000562, 0.01500422, 0.01000281]),\n",
       " array([-2.99442141, -2.79447764, -2.59453387, -2.3945901 , -2.19464633,\n",
       "        -1.99470256, -1.79475879, -1.59481502, -1.39487125, -1.19492748,\n",
       "        -0.9949837 , -0.79503993, -0.59509616, -0.39515239, -0.19520862,\n",
       "         0.00473515,  0.20467892,  0.40462269,  0.60456646,  0.80451023,\n",
       "         1.004454  ,  1.20439777,  1.40434155,  1.60428532,  1.80422909,\n",
       "         2.00417286,  2.20411663,  2.4040604 ,  2.60400417,  2.80394794,\n",
       "         3.00389171]),\n",
       " <a list of 1 Patch objects>)"
      ]
     },
     "execution_count": 7,
     "metadata": {},
     "output_type": "execute_result"
    },
    {
     "data": {
      "image/png": "[encoded data removed]",
      "text/plain": [
       "<Figure size 432x288 with 1 Axes>"
      ]
     },
     "metadata": {
      "needs_background": "light"
     },
     "output_type": "display_data"
    }
   ],
   "source": [
    "plt.hist(data, bins=30, normed=True, alpha=0.5,\n",
    "         histtype='stepfilled', color='steelblue',\n",
    "         edgecolor='none')\n",
    "\n",
    "# https://matplotlib.org/3.1.1/api/_as_gen/matplotlib.pyplot.hist.html?highlight=hist#matplotlib.pyplot.hist"
   ]
  },
  {
   "cell_type": "code",
   "execution_count": 10,
   "metadata": {
    "collapsed": false,
    "jupyter": {
     "outputs_hidden": false
    }
   },
   "outputs": [
    {
     "data": {
      "image/png": "[encoded data removed]",
      "text/plain": [
       "<Figure size 432x288 with 1 Axes>"
      ]
     },
     "metadata": {
      "needs_background": "light"
     },
     "output_type": "display_data"
    }
   ],
   "source": [
    "x1 = np.random.normal(0, 0.8, 1000)\n",
    "x2 = np.random.normal(-2, 1, 1000)\n",
    "x3 = np.random.normal(3, 2, 1000)\n",
    "\n",
    "kwargs = dict(histtype='stepfilled', alpha=0.3, normed=True, bins=40)\n",
    "\n",
    "plt.hist(x1, **kwargs)\n",
    "plt.hist(x2, **kwargs)\n",
    "plt.hist(x3, **kwargs)"
   ]
  },
  {
   "cell_type": "code",
   "execution_count": 14,
   "metadata": {},
   "outputs": [
    {
     "data": {
      "text/plain": [
       "(array([0.00609432, 0.        , 0.        , 0.        , 0.00304716,\n",
       "        0.00914147, 0.00304716, 0.02437726, 0.01828295, 0.01828295,\n",
       "        0.03351873, 0.03656589, 0.09141473, 0.08227326, 0.11579199,\n",
       "        0.07008463, 0.11579199, 0.17064083, 0.18892378, 0.20111241,\n",
       "        0.18587662, 0.17368799, 0.24681977, 0.21025388, 0.19806525,\n",
       "        0.19197093, 0.16454652, 0.09750905, 0.09446189, 0.08227326,\n",
       "        0.06703747, 0.057896  , 0.0213301 , 0.0213301 , 0.0213301 ,\n",
       "        0.00914147, 0.00609432, 0.00304716, 0.        , 0.00609432]),\n",
       " array([-4.04524408, -3.7170694 , -3.38889472, -3.06072004, -2.73254536,\n",
       "        -2.40437068, -2.076196  , -1.74802132, -1.41984665, -1.09167197,\n",
       "        -0.76349729, -0.43532261, -0.10714793,  0.22102675,  0.54920143,\n",
       "         0.87737611,  1.20555079,  1.53372547,  1.86190015,  2.19007483,\n",
       "         2.5182495 ,  2.84642418,  3.17459886,  3.50277354,  3.83094822,\n",
       "         4.1591229 ,  4.48729758,  4.81547226,  5.14364694,  5.47182162,\n",
       "         5.7999963 ,  6.12817098,  6.45634565,  6.78452033,  7.11269501,\n",
       "         7.44086969,  7.76904437,  8.09721905,  8.42539373,  8.75356841,\n",
       "         9.08174309]),\n",
       " <a list of 1 Patch objects>)"
      ]
     },
     "execution_count": 14,
     "metadata": {},
     "output_type": "execute_result"
    },
    {
     "data": {
      "image/png": "[encoded data removed]",
      "text/plain": [
       "<Figure size 432x288 with 1 Axes>"
      ]
     },
     "metadata": {
      "needs_background": "light"
     },
     "output_type": "display_data"
    }
   ],
   "source": [
    "kwargs = dict(histtype='step', alpha=0.3, normed=True, bins=40)\n",
    "\n",
    "plt.hist(x1, **kwargs)\n",
    "plt.hist(x2, **kwargs)\n",
    "plt.hist(x3, **kwargs)"
   ]
  },
  {
   "cell_type": "code",
   "execution_count": 26,
   "metadata": {},
   "outputs": [],
   "source": [
    "# plot 표시 데이터\n",
    "hist, bin_edges = np.histogram(x1)"
   ]
  },
  {
   "cell_type": "markdown",
   "metadata": {},
   "source": [
    "## Two-Dimensional Histograms\n",
    "\n",
    "- ``plt.hist2d``"
   ]
  },
  {
   "cell_type": "code",
   "execution_count": 16,
   "metadata": {
    "collapsed": false,
    "jupyter": {
     "outputs_hidden": false
    }
   },
   "outputs": [],
   "source": [
    "mean = [0, 0]\n",
    "cov = [[1, 1], [1, 2]]\n",
    "x, y = np.random.multivariate_normal(mean, cov, 10000).T"
   ]
  },
  {
   "cell_type": "code",
   "execution_count": 17,
   "metadata": {},
   "outputs": [
    {
     "data": {
      "text/plain": [
       "array([-0.40674514,  0.8866845 ,  1.65459484, ...,  0.51080034,\n",
       "       -2.05669752, -0.29096312])"
      ]
     },
     "execution_count": 17,
     "metadata": {},
     "output_type": "execute_result"
    }
   ],
   "source": [
    "x"
   ]
  },
  {
   "cell_type": "code",
   "execution_count": 18,
   "metadata": {},
   "outputs": [
    {
     "data": {
      "text/plain": [
       "array([ 0.31863051,  1.37078966,  1.15892494, ..., -1.57001415,\n",
       "       -3.19073092, -1.00174887])"
      ]
     },
     "execution_count": 18,
     "metadata": {},
     "output_type": "execute_result"
    }
   ],
   "source": [
    "y"
   ]
  },
  {
   "cell_type": "code",
   "execution_count": 12,
   "metadata": {
    "collapsed": false,
    "jupyter": {
     "outputs_hidden": false
    }
   },
   "outputs": [
    {
     "data": {
      "image/png": "[encoded data removed]",
      "text/plain": [
       "<matplotlib.figure.Figure at 0x1106647f0>"
      ]
     },
     "metadata": {},
     "output_type": "display_data"
    }
   ],
   "source": [
    "plt.hist2d(x, y, bins=30, cmap='Blues')\n",
    "cb = plt.colorbar()\n",
    "cb.set_label('counts in bin')"
   ]
  },
  {
   "cell_type": "code",
   "execution_count": 27,
   "metadata": {
    "collapsed": false,
    "jupyter": {
     "outputs_hidden": false
    }
   },
   "outputs": [],
   "source": [
    "# plot 표시 데이터\n",
    "counts, xedges, yedges = np.histogram2d(x, y, bins=30)"
   ]
  },
  {
   "cell_type": "markdown",
   "metadata": {},
   "source": [
    "### ``plt.hexbin``"
   ]
  },
  {
   "cell_type": "code",
   "execution_count": 28,
   "metadata": {
    "collapsed": false,
    "jupyter": {
     "outputs_hidden": false
    }
   },
   "outputs": [
    {
     "data": {
      "image/png": "[encoded data removed]",
      "text/plain": [
       "<Figure size 432x288 with 2 Axes>"
      ]
     },
     "metadata": {
      "needs_background": "light"
     },
     "output_type": "display_data"
    }
   ],
   "source": [
    "plt.hexbin(x, y, gridsize=30, cmap='Blues')\n",
    "cb = plt.colorbar(label='count in bin')"
   ]
  }
 ],
 "metadata": {
  "anaconda-cloud": {},
  "kernelspec": {
   "display_name": "Python 3",
   "language": "python",
   "name": "python3"
  },
  "language_info": {
   "codemirror_mode": {
    "name": "ipython",
    "version": 3
   },
   "file_extension": ".py",
   "mimetype": "text/x-python",
   "name": "python",
   "nbconvert_exporter": "python",
   "pygments_lexer": "ipython3",
   "version": "3.7.2"
  }
 },
 "nbformat": 4,
 "nbformat_minor": 4
}
