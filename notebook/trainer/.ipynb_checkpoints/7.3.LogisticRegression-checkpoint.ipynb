{
 "cells": [
  {
   "cell_type": "code",
   "execution_count": 9,
   "metadata": {},
   "outputs": [
    {
     "data": {
      "text/plain": [
       "array([[-0.56511345],\n",
       "       [ 1.81256131],\n",
       "       [-1.33619806],\n",
       "       [ 1.74890611],\n",
       "       [-0.19702637],\n",
       "       [-0.97174619],\n",
       "       [ 0.09145142],\n",
       "       [-0.81781175],\n",
       "       [ 1.02115611],\n",
       "       [-0.37608967]])"
      ]
     },
     "execution_count": 9,
     "metadata": {},
     "output_type": "execute_result"
    }
   ],
   "source": [
    "import pandas as pd\n",
    "import statsmodels.api as sm\n",
    "import numpy as np\n",
    "import matplotlib.pyplot as plt\n",
    "import seaborn as sns\n",
    "from sklearn.datasets import make_classification\n",
    "\n",
    "X0, y = make_classification(n_features=1, n_redundant=0, n_informative=1,\n",
    "                            n_clusters_per_class=1, random_state=4)\n",
    "\n",
    "X0[:10]"
   ]
  },
  {
   "cell_type": "code",
   "execution_count": 10,
   "metadata": {},
   "outputs": [
    {
     "data": {
      "text/plain": [
       "array([0, 1, 0, 1, 0, 0, 1, 0, 1, 0])"
      ]
     },
     "execution_count": 10,
     "metadata": {},
     "output_type": "execute_result"
    }
   ],
   "source": [
    "y[:10]"
   ]
  },
  {
   "cell_type": "code",
   "execution_count": 11,
   "metadata": {},
   "outputs": [
    {
     "data": {
      "image/png": "[encoded data removed]",
      "text/plain": [
       "<Figure size 432x288 with 1 Axes>"
      ]
     },
     "metadata": {
      "needs_background": "light"
     },
     "output_type": "display_data"
    }
   ],
   "source": [
    "plt.scatter(X0, y, c=y, s=100, edgecolor=\"k\", linewidth=2)\n",
    "sns.distplot(X0[y == 0, :], label=\"y = 0\", hist=False)\n",
    "sns.distplot(X0[y == 1, :], label=\"y = 1\", hist=False)\n",
    "plt.ylim(-0.2, 1.2)\n",
    "plt.show()"
   ]
  },
  {
   "cell_type": "code",
   "execution_count": 15,
   "metadata": {},
   "outputs": [
    {
     "data": {
      "text/html": [
       "<table class=\"simpletable\">\n",
       "<tr>\n",
       "        <td>Model:</td>              <td>Logit</td>      <td>Pseudo R-squared:</td>    <td>0.768</td>  \n",
       "</tr>\n",
       "<tr>\n",
       "  <td>Dependent Variable:</td>         <td>y</td>              <td>AIC:</td>          <td>36.1687</td> \n",
       "</tr>\n",
       "<tr>\n",
       "         <td>Date:</td>        <td>2020-01-09 11:14</td>       <td>BIC:</td>          <td>41.3791</td> \n",
       "</tr>\n",
       "<tr>\n",
       "   <td>No. Observations:</td>         <td>100</td>        <td>Log-Likelihood:</td>    <td>-16.084</td> \n",
       "</tr>\n",
       "<tr>\n",
       "       <td>Df Model:</td>              <td>1</td>            <td>LL-Null:</td>        <td>-69.295</td> \n",
       "</tr>\n",
       "<tr>\n",
       "     <td>Df Residuals:</td>           <td>98</td>          <td>LLR p-value:</td>    <td>5.9631e-25</td>\n",
       "</tr>\n",
       "<tr>\n",
       "      <td>Converged:</td>           <td>1.0000</td>           <td>Scale:</td>         <td>1.0000</td>  \n",
       "</tr>\n",
       "<tr>\n",
       "    <td>No. Iterations:</td>        <td>8.0000</td>              <td></td>               <td></td>     \n",
       "</tr>\n",
       "</table>\n",
       "<table class=\"simpletable\">\n",
       "<tr>\n",
       "    <td></td>     <th>Coef.</th> <th>Std.Err.</th>    <th>z</th>    <th>P>|z|</th> <th>[0.025</th>  <th>0.975]</th>\n",
       "</tr>\n",
       "<tr>\n",
       "  <th>const</th> <td>0.2515</td>  <td>0.4770</td>  <td>0.5272</td> <td>0.5981</td> <td>-0.6835</td> <td>1.1864</td>\n",
       "</tr>\n",
       "<tr>\n",
       "  <th>x1</th>    <td>4.2382</td>  <td>0.9020</td>  <td>4.6986</td> <td>0.0000</td> <td>2.4703</td>  <td>6.0062</td>\n",
       "</tr>\n",
       "</table>"
      ],
      "text/plain": [
       "<class 'statsmodels.iolib.summary2.Summary'>\n",
       "\"\"\"\n",
       "                         Results: Logit\n",
       "=================================================================\n",
       "Model:              Logit            Pseudo R-squared: 0.768     \n",
       "Dependent Variable: y                AIC:              36.1687   \n",
       "Date:               2020-01-09 11:14 BIC:              41.3791   \n",
       "No. Observations:   100              Log-Likelihood:   -16.084   \n",
       "Df Model:           1                LL-Null:          -69.295   \n",
       "Df Residuals:       98               LLR p-value:      5.9631e-25\n",
       "Converged:          1.0000           Scale:            1.0000    \n",
       "No. Iterations:     8.0000                                       \n",
       "--------------------------------------------------------------------\n",
       "         Coef.     Std.Err.      z       P>|z|      [0.025    0.975]\n",
       "--------------------------------------------------------------------\n",
       "const    0.2515      0.4770    0.5272    0.5981    -0.6835    1.1864\n",
       "x1       4.2382      0.9020    4.6986    0.0000     2.4703    6.0062\n",
       "=================================================================\n",
       "\n",
       "\"\"\""
      ]
     },
     "execution_count": 15,
     "metadata": {},
     "output_type": "execute_result"
    }
   ],
   "source": [
    "X = sm.add_constant(X0)\n",
    "logit_mod = sm.Logit(y, X)\n",
    "logit_res = logit_mod.fit(disp=0)\n",
    "logit_res.summary2()"
   ]
  },
  {
   "cell_type": "code",
   "execution_count": 17,
   "metadata": {},
   "outputs": [
    {
     "data": {
      "text/plain": [
       "[<matplotlib.lines.Line2D at 0x190d56f8f98>]"
      ]
     },
     "execution_count": 17,
     "metadata": {},
     "output_type": "execute_result"
    },
    {
     "data": {
      "image/png": "[encoded data removed]",
      "text/plain": [
       "<Figure size 432x288 with 1 Axes>"
      ]
     },
     "metadata": {
      "needs_background": "light"
     },
     "output_type": "display_data"
    }
   ],
   "source": [
    "xx = np.linspace(-3, 3, 100)\n",
    "mu = logit_res.predict(sm.add_constant(xx))\n",
    "plt.plot(xx, mu, lw=3)\n"
   ]
  },
  {
   "cell_type": "code",
   "execution_count": 19,
   "metadata": {},
   "outputs": [
    {
     "data": {
      "image/png": "[encoded data removed]",
      "text/plain": [
       "<Figure size 432x288 with 1 Axes>"
      ]
     },
     "metadata": {
      "needs_background": "light"
     },
     "output_type": "display_data"
    }
   ],
   "source": [
    "plt.plot(xx, mu, lw=3)\n",
    "plt.scatter(X0, y, c=y, s=100, edgecolor=\"k\", lw=2)\n",
    "plt.scatter(X0, logit_res.predict(X), label=r\"$\\hat{y}$\", marker='s', c=y,\n",
    "            s=100, edgecolor=\"k\", lw=1)\n",
    "plt.xlim(-3, 3)\n",
    "plt.xlabel(\"x\")\n",
    "plt.ylabel(r\"$\\mu$\")\n",
    "plt.title(r\"$\\hat{y} = \\mu(x)$\")\n",
    "plt.legend()\n",
    "plt.show()"
   ]
  },
  {
   "cell_type": "markdown",
   "metadata": {},
   "source": [
    "### scikit-learn"
   ]
  },
  {
   "cell_type": "code",
   "execution_count": 20,
   "metadata": {},
   "outputs": [
    {
     "name": "stderr",
     "output_type": "stream",
     "text": [
      "c:\\users\\iwannab1\\anaconda3\\envs\\edu\\lib\\site-packages\\sklearn\\linear_model\\logistic.py:432: FutureWarning: Default solver will be changed to 'lbfgs' in 0.22. Specify a solver to silence this warning.\n",
      "  FutureWarning)\n"
     ]
    },
    {
     "data": {
      "text/plain": [
       "LogisticRegression(C=1.0, class_weight=None, dual=False, fit_intercept=True,\n",
       "                   intercept_scaling=1, l1_ratio=None, max_iter=100,\n",
       "                   multi_class='warn', n_jobs=None, penalty='l2',\n",
       "                   random_state=0, solver='warn', tol=0.0001, verbose=0,\n",
       "                   warm_start=False)"
      ]
     },
     "execution_count": 20,
     "metadata": {},
     "output_type": "execute_result"
    }
   ],
   "source": [
    "from sklearn.linear_model import LogisticRegression\n",
    "model = LogisticRegression(random_state=0).fit(X0, y)\n",
    "model"
   ]
  },
  {
   "cell_type": "code",
   "execution_count": 22,
   "metadata": {},
   "outputs": [
    {
     "data": {
      "text/plain": [
       "0.95"
      ]
     },
     "execution_count": 22,
     "metadata": {},
     "output_type": "execute_result"
    }
   ],
   "source": [
    "model.score(X0, y)"
   ]
  },
  {
   "cell_type": "code",
   "execution_count": 23,
   "metadata": {},
   "outputs": [
    {
     "data": {
      "text/plain": [
       "array([0, 1, 0, 1, 0, 0, 1, 0, 1, 0, 0, 1, 0, 0, 1, 0, 1, 1, 1, 1, 0, 0,\n",
       "       1, 0, 1, 1, 1, 1, 1, 1, 1, 0, 1, 0, 0, 0, 0, 0, 0, 1, 1, 1, 0, 0,\n",
       "       0, 0, 1, 0, 0, 0, 1, 1, 1, 0, 1, 0, 0, 1, 1, 0, 0, 1, 1, 1, 1, 0,\n",
       "       1, 0, 1, 1, 0, 0, 1, 0, 1, 0, 0, 1, 1, 1, 1, 0, 0, 0, 1, 0, 0, 1,\n",
       "       1, 1, 1, 1, 0, 1, 1, 0, 0, 0, 0, 0])"
      ]
     },
     "execution_count": 23,
     "metadata": {},
     "output_type": "execute_result"
    }
   ],
   "source": [
    "model.predict(X0)"
   ]
  },
  {
   "cell_type": "code",
   "execution_count": 32,
   "metadata": {},
   "outputs": [
    {
     "data": {
      "text/plain": [
       "array([[8.20969485e-01, 1.79030515e-01],\n",
       "       [4.63267563e-03, 9.95367324e-01],\n",
       "       [9.77208514e-01, 2.27914865e-02],\n",
       "       [5.56631532e-03, 9.94433685e-01],\n",
       "       [6.12027062e-01, 3.87972938e-01],\n",
       "       [9.37130580e-01, 6.28694202e-02],\n",
       "       [4.06016060e-01, 5.93983940e-01],\n",
       "       [9.05124328e-01, 9.48756721e-02],\n",
       "       [4.41214698e-02, 9.55878530e-01],\n",
       "       [7.26104544e-01, 2.73895456e-01],\n",
       "       [8.50683606e-01, 1.49316394e-01],\n",
       "       [3.60938434e-02, 9.63906157e-01],\n",
       "       [9.48635138e-01, 5.13648625e-02],\n",
       "       [9.94336742e-01, 5.66325799e-03],\n",
       "       [1.14045410e-01, 8.85954590e-01],\n",
       "       [9.77326154e-01, 2.26738459e-02],\n",
       "       [4.19054546e-02, 9.58094545e-01],\n",
       "       [4.32178792e-02, 9.56782121e-01],\n",
       "       [1.24700735e-02, 9.87529927e-01],\n",
       "       [2.61902559e-02, 9.73809744e-01],\n",
       "       [9.89275051e-01, 1.07249488e-02],\n",
       "       [5.58994326e-01, 4.41005674e-01],\n",
       "       [3.31928041e-02, 9.66807196e-01],\n",
       "       [9.68111862e-01, 3.18881382e-02],\n",
       "       [1.29118442e-01, 8.70881558e-01],\n",
       "       [1.26528369e-02, 9.87347163e-01],\n",
       "       [6.68151888e-03, 9.93318481e-01],\n",
       "       [2.35276387e-01, 7.64723613e-01],\n",
       "       [1.07870187e-01, 8.92129813e-01],\n",
       "       [3.63096658e-01, 6.36903342e-01],\n",
       "       [3.14137696e-02, 9.68586230e-01],\n",
       "       [5.31995591e-01, 4.68004409e-01],\n",
       "       [1.86368558e-02, 9.81363144e-01],\n",
       "       [9.98224687e-01, 1.77531292e-03],\n",
       "       [9.62296091e-01, 3.77039094e-02],\n",
       "       [9.37472896e-01, 6.25271041e-02],\n",
       "       [9.89065215e-01, 1.09347854e-02],\n",
       "       [9.07518908e-01, 9.24810915e-02],\n",
       "       [9.37862168e-01, 6.21378316e-02],\n",
       "       [1.09766977e-02, 9.89023302e-01],\n",
       "       [1.87139790e-01, 8.12860210e-01],\n",
       "       [6.17078698e-02, 9.38292130e-01],\n",
       "       [8.99379754e-01, 1.00620246e-01],\n",
       "       [8.29927424e-01, 1.70072576e-01],\n",
       "       [9.92089286e-01, 7.91071367e-03],\n",
       "       [9.37697922e-01, 6.23020783e-02],\n",
       "       [1.21639866e-01, 8.78360134e-01],\n",
       "       [9.86113245e-01, 1.38867550e-02],\n",
       "       [7.40409546e-01, 2.59590454e-01],\n",
       "       [8.21258512e-01, 1.78741488e-01],\n",
       "       [3.48705448e-02, 9.65129455e-01],\n",
       "       [8.50875533e-02, 9.14912447e-01],\n",
       "       [2.85471652e-02, 9.71452835e-01],\n",
       "       [9.86376919e-01, 1.36230809e-02],\n",
       "       [9.85503694e-03, 9.90144963e-01],\n",
       "       [9.60807556e-01, 3.91924445e-02],\n",
       "       [8.67950739e-01, 1.32049261e-01],\n",
       "       [2.30030388e-02, 9.76996961e-01],\n",
       "       [6.20791539e-02, 9.37920846e-01],\n",
       "       [9.07519302e-01, 9.24806984e-02],\n",
       "       [9.88425486e-01, 1.15745144e-02],\n",
       "       [4.11426818e-01, 5.88573182e-01],\n",
       "       [4.40050247e-02, 9.55994975e-01],\n",
       "       [2.87040121e-02, 9.71295988e-01],\n",
       "       [3.43438315e-02, 9.65656169e-01],\n",
       "       [8.28740112e-01, 1.71259888e-01],\n",
       "       [2.42047805e-01, 7.57952195e-01],\n",
       "       [9.27106613e-01, 7.28933869e-02],\n",
       "       [1.55186283e-03, 9.98448137e-01],\n",
       "       [4.53497454e-02, 9.54650255e-01],\n",
       "       [9.51678458e-01, 4.83215422e-02],\n",
       "       [9.90076196e-01, 9.92380373e-03],\n",
       "       [1.63975053e-03, 9.98360249e-01],\n",
       "       [8.03301239e-01, 1.96698761e-01],\n",
       "       [9.52662016e-03, 9.90473380e-01],\n",
       "       [9.91928189e-01, 8.07181056e-03],\n",
       "       [9.75799634e-01, 2.42003657e-02],\n",
       "       [5.11146509e-02, 9.48885349e-01],\n",
       "       [1.96935390e-02, 9.80306461e-01],\n",
       "       [8.13958304e-02, 9.18604170e-01],\n",
       "       [3.70598812e-01, 6.29401188e-01],\n",
       "       [8.44908961e-01, 1.55091039e-01],\n",
       "       [9.56048629e-01, 4.39513713e-02],\n",
       "       [9.88549261e-01, 1.14507394e-02],\n",
       "       [1.56436315e-01, 8.43563685e-01],\n",
       "       [9.42554418e-01, 5.74455821e-02],\n",
       "       [8.84051066e-01, 1.15948934e-01],\n",
       "       [1.02665371e-01, 8.97334629e-01],\n",
       "       [2.94888947e-02, 9.70511105e-01],\n",
       "       [2.01423571e-02, 9.79857643e-01],\n",
       "       [1.46249739e-01, 8.53750261e-01],\n",
       "       [1.97459928e-01, 8.02540072e-01],\n",
       "       [9.89124911e-01, 1.08750894e-02],\n",
       "       [7.15321298e-04, 9.99284679e-01],\n",
       "       [2.02211549e-01, 7.97788451e-01],\n",
       "       [8.95110490e-01, 1.04889510e-01],\n",
       "       [8.82504603e-01, 1.17495397e-01],\n",
       "       [8.77332947e-01, 1.22667053e-01],\n",
       "       [8.64446442e-01, 1.35553558e-01],\n",
       "       [5.79876445e-01, 4.20123555e-01]])"
      ]
     },
     "execution_count": 32,
     "metadata": {},
     "output_type": "execute_result"
    }
   ],
   "source": [
    "model.predict_proba(X0)"
   ]
  },
  {
   "cell_type": "code",
   "execution_count": 31,
   "metadata": {},
   "outputs": [
    {
     "data": {
      "text/html": [
       "<div>\n",
       "<style scoped>\n",
       "    .dataframe tbody tr th:only-of-type {\n",
       "        vertical-align: middle;\n",
       "    }\n",
       "\n",
       "    .dataframe tbody tr th {\n",
       "        vertical-align: top;\n",
       "    }\n",
       "\n",
       "    .dataframe thead th {\n",
       "        text-align: right;\n",
       "    }\n",
       "</style>\n",
       "<table border=\"1\" class=\"dataframe\">\n",
       "  <thead>\n",
       "    <tr style=\"text-align: right;\">\n",
       "      <th></th>\n",
       "      <th>0</th>\n",
       "      <th>1</th>\n",
       "    </tr>\n",
       "  </thead>\n",
       "  <tbody>\n",
       "    <tr>\n",
       "      <td>0</td>\n",
       "      <td>0.82097</td>\n",
       "      <td>0.17903</td>\n",
       "    </tr>\n",
       "    <tr>\n",
       "      <td>1</td>\n",
       "      <td>0.00463</td>\n",
       "      <td>0.99537</td>\n",
       "    </tr>\n",
       "    <tr>\n",
       "      <td>2</td>\n",
       "      <td>0.97721</td>\n",
       "      <td>0.02279</td>\n",
       "    </tr>\n",
       "    <tr>\n",
       "      <td>3</td>\n",
       "      <td>0.00557</td>\n",
       "      <td>0.99443</td>\n",
       "    </tr>\n",
       "    <tr>\n",
       "      <td>4</td>\n",
       "      <td>0.61203</td>\n",
       "      <td>0.38797</td>\n",
       "    </tr>\n",
       "    <tr>\n",
       "      <td>...</td>\n",
       "      <td>...</td>\n",
       "      <td>...</td>\n",
       "    </tr>\n",
       "    <tr>\n",
       "      <td>95</td>\n",
       "      <td>0.89511</td>\n",
       "      <td>0.10489</td>\n",
       "    </tr>\n",
       "    <tr>\n",
       "      <td>96</td>\n",
       "      <td>0.88250</td>\n",
       "      <td>0.11750</td>\n",
       "    </tr>\n",
       "    <tr>\n",
       "      <td>97</td>\n",
       "      <td>0.87733</td>\n",
       "      <td>0.12267</td>\n",
       "    </tr>\n",
       "    <tr>\n",
       "      <td>98</td>\n",
       "      <td>0.86445</td>\n",
       "      <td>0.13555</td>\n",
       "    </tr>\n",
       "    <tr>\n",
       "      <td>99</td>\n",
       "      <td>0.57988</td>\n",
       "      <td>0.42012</td>\n",
       "    </tr>\n",
       "  </tbody>\n",
       "</table>\n",
       "<p>100 rows × 2 columns</p>\n",
       "</div>"
      ],
      "text/plain": [
       "         0       1\n",
       "0  0.82097 0.17903\n",
       "1  0.00463 0.99537\n",
       "2  0.97721 0.02279\n",
       "3  0.00557 0.99443\n",
       "4  0.61203 0.38797\n",
       "..     ...     ...\n",
       "95 0.89511 0.10489\n",
       "96 0.88250 0.11750\n",
       "97 0.87733 0.12267\n",
       "98 0.86445 0.13555\n",
       "99 0.57988 0.42012\n",
       "\n",
       "[100 rows x 2 columns]"
      ]
     },
     "execution_count": 31,
     "metadata": {},
     "output_type": "execute_result"
    }
   ],
   "source": [
    "pd.options.display.float_format = '{:.5f}'.format\n",
    "pd.DataFrame(model.predict_proba(X0))"
   ]
  },
  {
   "cell_type": "code",
   "execution_count": null,
   "metadata": {},
   "outputs": [],
   "source": []
  }
 ],
 "metadata": {
  "kernelspec": {
   "display_name": "Python 3",
   "language": "python",
   "name": "python3"
  },
  "language_info": {
   "codemirror_mode": {
    "name": "ipython",
    "version": 3
   },
   "file_extension": ".py",
   "mimetype": "text/x-python",
   "name": "python",
   "nbconvert_exporter": "python",
   "pygments_lexer": "ipython3",
   "version": "3.6.7"
  }
 },
 "nbformat": 4,
 "nbformat_minor": 4
}
