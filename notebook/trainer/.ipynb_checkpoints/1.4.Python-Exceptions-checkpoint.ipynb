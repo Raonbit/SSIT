{
 "cells": [
  {
   "cell_type": "markdown",
   "metadata": {},
   "source": [
    "## Exceptions"
   ]
  },
  {
   "cell_type": "markdown",
   "metadata": {},
   "source": [
    "* `try/except`:\n",
    "    * Catch and recover from exceptions raised by Python, or by you\n",
    "    \n",
    "* `try/finally`:\n",
    "    * Perform cleanup actions, whether exceptions occur or not.\n",
    "\n",
    "* `raise`:\n",
    "    * Trigger an exception manually in your code.\n",
    "    \n",
    "* `assert`:\n",
    "    * Conditionally trigger an exception in your code.\n",
    "    \n",
    "* `with/as`:\n",
    "    * Implement context managers in Python 2.6, 3.0, and later (optional in 2.5)."
   ]
  },
  {
   "cell_type": "markdown",
   "metadata": {},
   "source": [
    "### 1. **try/except/else/finally** Statement"
   ]
  },
  {
   "cell_type": "code",
   "execution_count": 1,
   "metadata": {
    "collapsed": false,
    "jupyter": {
     "outputs_hidden": false
    }
   },
   "outputs": [
    {
     "name": "stdout",
     "output_type": "stream",
     "text": [
      "Getting number at position 1 : 1\n",
      "Cleaning UP\n"
     ]
    }
   ],
   "source": [
    "list_of_numbers = list(range(1, 100))\n",
    "dictionary_of_numbers = {}\n",
    "for number in list_of_numbers:\n",
    "    dictionary_of_numbers[number**2] = number\n",
    "    \n",
    "try:\n",
    "    index = list_of_numbers.index(2)\n",
    "    value = dictionary_of_numbers[index]\n",
    "    print('Getting number at position %d : %d' % (index, value))\n",
    "except (ValueError, KeyError):\n",
    "    print('Error Raised, but Controlled! ')\n",
    "finally:\n",
    "    print('Cleaning UP')"
   ]
  },
  {
   "cell_type": "code",
   "execution_count": 2,
   "metadata": {},
   "outputs": [
    {
     "name": "stdout",
     "output_type": "stream",
     "text": [
      "Getting number at position 1 : 1\n",
      "Cleaning UP\n"
     ]
    }
   ],
   "source": [
    "try:\n",
    "    index = list_of_numbers.index(2)\n",
    "    value = dictionary_of_numbers[index]\n",
    "except (ValueError, KeyError):\n",
    "    print('Error Raised, but Controlled! ')\n",
    "else: \n",
    "    print('Getting number at position %d : %d' % (index, value))\n",
    "finally:\n",
    "    print('Cleaning UP')"
   ]
  },
  {
   "cell_type": "code",
   "execution_count": 3,
   "metadata": {},
   "outputs": [
    {
     "name": "stdout",
     "output_type": "stream",
     "text": [
      "Error Raised, but Controlled! \n",
      "100 is not in list\n",
      "Cleaning UP\n"
     ]
    },
    {
     "name": "stderr",
     "output_type": "stream",
     "text": [
      "Traceback (most recent call last):\n",
      "  File \"<ipython-input-3-67a0078e02e6>\", line 3, in <module>\n",
      "    index = list_of_numbers.index(100)\n",
      "ValueError: 100 is not in list\n"
     ]
    }
   ],
   "source": [
    "import traceback, sys\n",
    "try:\n",
    "    index = list_of_numbers.index(100)\n",
    "    value = dictionary_of_numbers[index]\n",
    "except (ValueError, KeyError):\n",
    "    print('Error Raised, but Controlled! ')\n",
    "    type, value, tr = sys.exc_info()\n",
    "    print(value)\n",
    "    traceback.print_exc()\n",
    "else: \n",
    "    print('Getting number at position %d : %d' % (index, value))\n",
    "finally:\n",
    "    print('Cleaning UP')"
   ]
  },
  {
   "cell_type": "markdown",
   "metadata": {},
   "source": [
    "### 2. User Defined Exceptions"
   ]
  },
  {
   "cell_type": "code",
   "execution_count": 4,
   "metadata": {},
   "outputs": [],
   "source": [
    "class AlreadyGotOne(Exception): \n",
    "    pass\n",
    "\n",
    "def gail():\n",
    "    raise AlreadyGotOne()"
   ]
  },
  {
   "cell_type": "code",
   "execution_count": 5,
   "metadata": {
    "collapsed": false,
    "jupyter": {
     "outputs_hidden": false
    }
   },
   "outputs": [
    {
     "name": "stdout",
     "output_type": "stream",
     "text": [
      "got exception\n"
     ]
    }
   ],
   "source": [
    "try:\n",
    "    gail()\n",
    "except AlreadyGotOne:\n",
    "    print('got exception')"
   ]
  },
  {
   "cell_type": "code",
   "execution_count": 6,
   "metadata": {
    "collapsed": false,
    "jupyter": {
     "outputs_hidden": false
    },
    "scrolled": true
   },
   "outputs": [
    {
     "ename": "Career",
     "evalue": "So I became a waiter of Engineer",
     "output_type": "error",
     "traceback": [
      "\u001b[0;31m---------------------------------------------------------------------------\u001b[0m",
      "\u001b[0;31mCareer\u001b[0m                                    Traceback (most recent call last)",
      "\u001b[0;32m<ipython-input-6-2b745a9ef032>\u001b[0m in \u001b[0;36m<module>\u001b[0;34m\u001b[0m\n\u001b[1;32m      8\u001b[0m         \u001b[0;32mreturn\u001b[0m \u001b[0;34m'So I became a waiter of {}'\u001b[0m\u001b[0;34m.\u001b[0m\u001b[0mformat\u001b[0m\u001b[0;34m(\u001b[0m\u001b[0mself\u001b[0m\u001b[0;34m.\u001b[0m\u001b[0m_job\u001b[0m\u001b[0;34m)\u001b[0m\u001b[0;34m\u001b[0m\u001b[0;34m\u001b[0m\u001b[0m\n\u001b[1;32m      9\u001b[0m \u001b[0;34m\u001b[0m\u001b[0m\n\u001b[0;32m---> 10\u001b[0;31m \u001b[0;32mraise\u001b[0m \u001b[0mCareer\u001b[0m\u001b[0;34m(\u001b[0m\u001b[0;34m'Engineer'\u001b[0m\u001b[0;34m)\u001b[0m\u001b[0;34m\u001b[0m\u001b[0;34m\u001b[0m\u001b[0m\n\u001b[0m",
      "\u001b[0;31mCareer\u001b[0m: So I became a waiter of Engineer"
     ]
    }
   ],
   "source": [
    "class Career(Exception):\n",
    "    \n",
    "    def __init__(self, job, *args, **kwargs):\n",
    "        super(Career, self).__init__(*args, **kwargs)\n",
    "        self._job = job\n",
    "    \n",
    "    def __str__(self): \n",
    "        return 'So I became a waiter of {}'.format(self._job)\n",
    "    \n",
    "raise Career('Engineer')"
   ]
  }
 ],
 "metadata": {
  "kernelspec": {
   "display_name": "Python 3",
   "language": "python",
   "name": "python3"
  },
  "language_info": {
   "codemirror_mode": {
    "name": "ipython",
    "version": 3
   },
   "file_extension": ".py",
   "mimetype": "text/x-python",
   "name": "python",
   "nbconvert_exporter": "python",
   "pygments_lexer": "ipython3",
   "version": "3.7.4"
  }
 },
 "nbformat": 4,
 "nbformat_minor": 4
}
