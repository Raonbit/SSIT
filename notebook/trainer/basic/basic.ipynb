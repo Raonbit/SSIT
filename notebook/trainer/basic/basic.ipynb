{
 "cells": [
  {
   "cell_type": "code",
   "execution_count": 78,
   "metadata": {},
   "outputs": [],
   "source": [
    "import pandas as pd\n",
    "import numpy as np"
   ]
  },
  {
   "cell_type": "code",
   "execution_count": 20,
   "metadata": {},
   "outputs": [],
   "source": [
    "df = pd.read_csv('02-4-sexual-partners-counts-x.csv')"
   ]
  },
  {
   "cell_type": "code",
   "execution_count": 106,
   "metadata": {},
   "outputs": [],
   "source": [
    "import random\n",
    "\n",
    "def game1(num):\n",
    "    ret = []\n",
    "    for _ in range(num):\n",
    "        win = 0\n",
    "        for _ in range(4):\n",
    "            dice = random.randint(1,6)\n",
    "            if dice == 6:\n",
    "                win += 1\n",
    "                break\n",
    "        if win == 0:\n",
    "            ret.append(1)\n",
    "        else:\n",
    "            ret.append(0)\n",
    "    return (np.array(ret) == 1).sum() / len(ret)"
   ]
  },
  {
   "cell_type": "code",
   "execution_count": 108,
   "metadata": {},
   "outputs": [
    {
     "name": "stdout",
     "output_type": "stream",
     "text": [
      "0.3\n",
      "0.503\n",
      "0.4842\n",
      "0.48148\n",
      "0.482513\n"
     ]
    }
   ],
   "source": [
    "print(game1(10))\n",
    "print(game1(1000))\n",
    "print(game1(10000))\n",
    "print(game1(100000))\n",
    "print(game1(1000000))"
   ]
  },
  {
   "cell_type": "code",
   "execution_count": 105,
   "metadata": {},
   "outputs": [
    {
     "data": {
      "text/plain": [
       "0.5"
      ]
     },
     "execution_count": 105,
     "metadata": {},
     "output_type": "execute_result"
    }
   ],
   "source": [
    "(np.array([0, 1, 0, 0, 1, 1, 1, 0, 0, 1]) == 1).sum() / 10"
   ]
  },
  {
   "cell_type": "code",
   "execution_count": null,
   "metadata": {},
   "outputs": [],
   "source": []
  }
 ],
 "metadata": {
  "kernelspec": {
   "display_name": "Python 3",
   "language": "python",
   "name": "python3"
  },
  "language_info": {
   "codemirror_mode": {
    "name": "ipython",
    "version": 3
   },
   "file_extension": ".py",
   "mimetype": "text/x-python",
   "name": "python",
   "nbconvert_exporter": "python",
   "pygments_lexer": "ipython3",
   "version": "3.7.3"
  }
 },
 "nbformat": 4,
 "nbformat_minor": 4
}
