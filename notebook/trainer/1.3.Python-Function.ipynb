{
 "cells": [
  {
   "cell_type": "markdown",
   "metadata": {
    "slideshow": {
     "slide_type": "slide"
    }
   },
   "source": [
    "## Functions\n",
    "\n",
    "```ipython\n",
    "def function_name(argument_1, argument_2):\n",
    "    # logic\n",
    "    # return \n",
    "\n",
    "function_name(value_1, value_2)\n",
    "```"
   ]
  },
  {
   "cell_type": "code",
   "execution_count": 1,
   "metadata": {
    "collapsed": false,
    "jupyter": {
     "outputs_hidden": false
    },
    "slideshow": {
     "slide_type": "fragment"
    }
   },
   "outputs": [
    {
     "name": "stdout",
     "output_type": "stream",
     "text": [
      "1 : one\n",
      "2 : two\n",
      "3 : three\n",
      "4 : big\n"
     ]
    }
   ],
   "source": [
    "def get_number_word(number):\n",
    "    if number == 1:\n",
    "        return 'one'\n",
    "    elif number == 2:\n",
    "        return 'two'\n",
    "    elif number == 3:\n",
    "        return 'three'\n",
    "    else:\n",
    "        return 'big'\n",
    "    \n",
    "for current_number in range(1,5):\n",
    "    number_word = get_number_word(current_number)\n",
    "    print('%d : %s' % (current_number, number_word))"
   ]
  },
  {
   "cell_type": "markdown",
   "metadata": {
    "slideshow": {
     "slide_type": "slide"
    }
   },
   "source": [
    "### 1. Default argument values"
   ]
  },
  {
   "cell_type": "code",
   "execution_count": 2,
   "metadata": {
    "collapsed": false,
    "jupyter": {
     "outputs_hidden": false
    },
    "slideshow": {
     "slide_type": "fragment"
    }
   },
   "outputs": [
    {
     "name": "stdout",
     "output_type": "stream",
     "text": [
      "\n",
      "You are doing good work, Billy!\n",
      "\n",
      "You are doing good work, Caroline!\n",
      "\n",
      "You are doing good work, everyone!\n"
     ]
    }
   ],
   "source": [
    "def thank_you(name='everyone'):\n",
    "    print(\"\\nYou are doing good work, %s!\" % name)\n",
    "    \n",
    "thank_you('Billy')\n",
    "thank_you('Caroline')\n",
    "thank_you()"
   ]
  },
  {
   "cell_type": "markdown",
   "metadata": {
    "slideshow": {
     "slide_type": "subslide"
    }
   },
   "source": [
    "### 2. Keyword arguments"
   ]
  },
  {
   "cell_type": "code",
   "execution_count": 3,
   "metadata": {
    "collapsed": false,
    "jupyter": {
     "outputs_hidden": false
    },
    "slideshow": {
     "slide_type": "subslide"
    }
   },
   "outputs": [
    {
     "ename": "AttributeError",
     "evalue": "'int' object has no attribute 'title'",
     "output_type": "error",
     "traceback": [
      "\u001b[0;31m---------------------------------------------------------------------------\u001b[0m",
      "\u001b[0;31mAttributeError\u001b[0m                            Traceback (most recent call last)",
      "\u001b[0;32m<ipython-input-3-b620720e8128>\u001b[0m in \u001b[0;36m<module>\u001b[0;34m\u001b[0m\n\u001b[1;32m      4\u001b[0m     \u001b[0mprint\u001b[0m\u001b[0;34m(\u001b[0m\u001b[0;34m\"Age: %d\\n\"\u001b[0m \u001b[0;34m%\u001b[0m \u001b[0mage\u001b[0m\u001b[0;34m)\u001b[0m\u001b[0;34m\u001b[0m\u001b[0;34m\u001b[0m\u001b[0m\n\u001b[1;32m      5\u001b[0m \u001b[0;34m\u001b[0m\u001b[0m\n\u001b[0;32m----> 6\u001b[0;31m \u001b[0mdescribe_person\u001b[0m\u001b[0;34m(\u001b[0m\u001b[0;36m71\u001b[0m\u001b[0;34m,\u001b[0m \u001b[0;34m'brian'\u001b[0m\u001b[0;34m,\u001b[0m \u001b[0;34m'kernighan'\u001b[0m\u001b[0;34m)\u001b[0m\u001b[0;34m\u001b[0m\u001b[0;34m\u001b[0m\u001b[0m\n\u001b[0m",
      "\u001b[0;32m<ipython-input-3-b620720e8128>\u001b[0m in \u001b[0;36mdescribe_person\u001b[0;34m(first_name, last_name, age)\u001b[0m\n\u001b[1;32m      1\u001b[0m \u001b[0;32mdef\u001b[0m \u001b[0mdescribe_person\u001b[0m\u001b[0;34m(\u001b[0m\u001b[0mfirst_name\u001b[0m\u001b[0;34m,\u001b[0m \u001b[0mlast_name\u001b[0m\u001b[0;34m,\u001b[0m \u001b[0mage\u001b[0m\u001b[0;34m)\u001b[0m\u001b[0;34m:\u001b[0m\u001b[0;34m\u001b[0m\u001b[0;34m\u001b[0m\u001b[0m\n\u001b[0;32m----> 2\u001b[0;31m     \u001b[0mprint\u001b[0m\u001b[0;34m(\u001b[0m\u001b[0;34m\"First name: %s\"\u001b[0m \u001b[0;34m%\u001b[0m \u001b[0mfirst_name\u001b[0m\u001b[0;34m.\u001b[0m\u001b[0mtitle\u001b[0m\u001b[0;34m(\u001b[0m\u001b[0;34m)\u001b[0m\u001b[0;34m)\u001b[0m\u001b[0;34m\u001b[0m\u001b[0;34m\u001b[0m\u001b[0m\n\u001b[0m\u001b[1;32m      3\u001b[0m     \u001b[0mprint\u001b[0m\u001b[0;34m(\u001b[0m\u001b[0;34m\"Last name: %s\"\u001b[0m \u001b[0;34m%\u001b[0m \u001b[0mlast_name\u001b[0m\u001b[0;34m.\u001b[0m\u001b[0mtitle\u001b[0m\u001b[0;34m(\u001b[0m\u001b[0;34m)\u001b[0m\u001b[0;34m)\u001b[0m\u001b[0;34m\u001b[0m\u001b[0;34m\u001b[0m\u001b[0m\n\u001b[1;32m      4\u001b[0m     \u001b[0mprint\u001b[0m\u001b[0;34m(\u001b[0m\u001b[0;34m\"Age: %d\\n\"\u001b[0m \u001b[0;34m%\u001b[0m \u001b[0mage\u001b[0m\u001b[0;34m)\u001b[0m\u001b[0;34m\u001b[0m\u001b[0;34m\u001b[0m\u001b[0m\n\u001b[1;32m      5\u001b[0m \u001b[0;34m\u001b[0m\u001b[0m\n",
      "\u001b[0;31mAttributeError\u001b[0m: 'int' object has no attribute 'title'"
     ]
    }
   ],
   "source": [
    "def describe_person(first_name, last_name, age):\n",
    "    print(\"First name: %s\" % first_name.title())\n",
    "    print(\"Last name: %s\" % last_name.title())\n",
    "    print(\"Age: %d\\n\" % age)\n",
    "\n",
    "describe_person(71, 'brian', 'kernighan')"
   ]
  },
  {
   "cell_type": "code",
   "execution_count": 5,
   "metadata": {},
   "outputs": [
    {
     "name": "stdout",
     "output_type": "stream",
     "text": [
      "First name: Brian\n",
      "Last name: Kernighan\n",
      "Age: 71\n",
      "\n"
     ]
    }
   ],
   "source": [
    "describe_person(age=71, first_name='brian', last_name='kernighan')"
   ]
  },
  {
   "cell_type": "markdown",
   "metadata": {
    "slideshow": {
     "slide_type": "subslide"
    }
   },
   "source": [
    "### 3. Mixing positional and keyword arguments"
   ]
  },
  {
   "cell_type": "code",
   "execution_count": 6,
   "metadata": {
    "collapsed": false,
    "jupyter": {
     "outputs_hidden": false
    },
    "slideshow": {
     "slide_type": "subslide"
    }
   },
   "outputs": [
    {
     "name": "stdout",
     "output_type": "stream",
     "text": [
      "First name: Brian\n",
      "Last name: Kernighan\n",
      "Age: None\n",
      "\n",
      "First name: Adele\n",
      "Last name: Goldberg\n",
      "Age: 68\n",
      "\n",
      "First name: Dennis\n",
      "Last name: Ritchie\n",
      "Age: None\n",
      "\n",
      "First name: Guido\n",
      "Last name: Van Rossum\n",
      "Age: None\n",
      "\n"
     ]
    }
   ],
   "source": [
    "def describe_person(first_name, last_name, age=None, favorite_language=None, died=None):\n",
    "    print(\"First name: %s\" % first_name.title())\n",
    "    print(\"Last name: %s\" % last_name.title())\n",
    "    print(\"Age: %s\\n\" % str(age))\n",
    "\n",
    "describe_person('brian', 'kernighan', favorite_language='C')\n",
    "describe_person('adele', 'goldberg', age=68, favorite_language='Smalltalk')\n",
    "describe_person('dennis', 'ritchie', favorite_language='C', died=2011)\n",
    "describe_person('guido', 'van rossum', favorite_language='Python')"
   ]
  },
  {
   "cell_type": "markdown",
   "metadata": {
    "slideshow": {
     "slide_type": "slide"
    }
   },
   "source": [
    "### 4. arbitrary number of arguments"
   ]
  },
  {
   "cell_type": "code",
   "execution_count": 7,
   "metadata": {
    "collapsed": false,
    "jupyter": {
     "outputs_hidden": false
    },
    "slideshow": {
     "slide_type": "subslide"
    }
   },
   "outputs": [
    {
     "name": "stdout",
     "output_type": "stream",
     "text": [
      "The sum of your numbers is 3.\n",
      "The sum of your numbers is 1.\n",
      "The sum of your numbers is -1.\n"
     ]
    }
   ],
   "source": [
    "def adder(num_1, num_2):\n",
    "    sum = num_1 + num_2\n",
    "    print(\"The sum of your numbers is %d.\" % sum)\n",
    "    \n",
    "adder(1, 2)\n",
    "adder(-1, 2)\n",
    "adder(1, -2)"
   ]
  },
  {
   "cell_type": "code",
   "execution_count": 8,
   "metadata": {
    "collapsed": false,
    "jupyter": {
     "outputs_hidden": false
    },
    "slideshow": {
     "slide_type": "fragment"
    }
   },
   "outputs": [
    {
     "ename": "TypeError",
     "evalue": "adder() takes 2 positional arguments but 3 were given",
     "output_type": "error",
     "traceback": [
      "\u001b[0;31m---------------------------------------------------------------------------\u001b[0m",
      "\u001b[0;31mTypeError\u001b[0m                                 Traceback (most recent call last)",
      "\u001b[0;32m<ipython-input-8-e1d0888859cd>\u001b[0m in \u001b[0;36m<module>\u001b[0;34m\u001b[0m\n\u001b[0;32m----> 1\u001b[0;31m \u001b[0madder\u001b[0m\u001b[0;34m(\u001b[0m\u001b[0;36m1\u001b[0m\u001b[0;34m,\u001b[0m \u001b[0;36m2\u001b[0m\u001b[0;34m,\u001b[0m \u001b[0;36m3\u001b[0m\u001b[0;34m)\u001b[0m\u001b[0;34m\u001b[0m\u001b[0;34m\u001b[0m\u001b[0m\n\u001b[0m",
      "\u001b[0;31mTypeError\u001b[0m: adder() takes 2 positional arguments but 3 were given"
     ]
    }
   ],
   "source": [
    "adder(1, 2, 3)"
   ]
  },
  {
   "cell_type": "code",
   "execution_count": 10,
   "metadata": {
    "collapsed": false,
    "jupyter": {
     "outputs_hidden": false
    },
    "slideshow": {
     "slide_type": "fragment"
    }
   },
   "outputs": [
    {
     "name": "stdout",
     "output_type": "stream",
     "text": [
      "The sum of your numbers is 3.\n",
      "The sum of your numbers is 6.\n",
      "The sum of your numbers is 10.\n",
      "The sum of your numbers is 15.\n"
     ]
    }
   ],
   "source": [
    "def adder(num_1, num_2, *nums):\n",
    "    sum = num_1 + num_2\n",
    "    for n in nums:\n",
    "        sum += n\n",
    "    print(\"The sum of your numbers is %d.\" % sum)\n",
    "\n",
    "adder(1, 2)\n",
    "adder(1, 2, 3)\n",
    "adder(1, 2, 3, 4)\n",
    "adder(1, 2, 3, 4, 5)"
   ]
  },
  {
   "cell_type": "code",
   "execution_count": 13,
   "metadata": {
    "collapsed": false,
    "jupyter": {
     "outputs_hidden": false
    },
    "slideshow": {
     "slide_type": "fragment"
    }
   },
   "outputs": [
    {
     "name": "stdout",
     "output_type": "stream",
     "text": [
      "The sum of your numbers is 0.\n",
      "The sum of your numbers is 6.\n",
      "The sum of your numbers is 16.\n",
      "The sum of your numbers is 36.\n"
     ]
    }
   ],
   "source": [
    "def adder(*nums):\n",
    "    s = 0 \n",
    "    for num in nums:\n",
    "        s = s + num\n",
    "    print(\"The sum of your numbers is %d.\" % s)\n",
    "    \n",
    "adder()\n",
    "adder(1, 2, 3)\n",
    "adder(1, 2, 3, 10)\n",
    "adder(1, 2, 3, 7, 9, 14)"
   ]
  },
  {
   "cell_type": "code",
   "execution_count": 14,
   "metadata": {
    "collapsed": false,
    "jupyter": {
     "outputs_hidden": false
    },
    "slideshow": {
     "slide_type": "fragment"
    }
   },
   "outputs": [
    {
     "name": "stdout",
     "output_type": "stream",
     "text": [
      "The sum of your numbers is 6.\n",
      "The sum of your numbers is 16.\n",
      "The sum of your numbers is 36.\n"
     ]
    }
   ],
   "source": [
    "def adder(*nums):\n",
    "    print(\"The sum of your numbers is %d.\" % sum(nums))\n",
    "    \n",
    "adder(1, 2, 3)\n",
    "adder(1, 2, 3, 10)\n",
    "adder(1, 2, 3, 7, 9, 14)"
   ]
  },
  {
   "cell_type": "markdown",
   "metadata": {
    "slideshow": {
     "slide_type": "subslide"
    }
   },
   "source": [
    "#### 5. arbitrary number of keyword arguments"
   ]
  },
  {
   "cell_type": "code",
   "execution_count": 15,
   "metadata": {
    "collapsed": false,
    "jupyter": {
     "outputs_hidden": false
    }
   },
   "outputs": [
    {
     "name": "stdout",
     "output_type": "stream",
     "text": [
      "1++2++4++5\n",
      "\n",
      "1++3\n",
      "value :  1\n",
      "name :  5\n",
      "\n",
      "\n",
      "store :  ff\n",
      "quote :  Do. Or do not. There is no try.\n"
     ]
    }
   ],
   "source": [
    "def example_function(*args, **kwargs):\n",
    "    print(*args, sep='++')\n",
    "    for k, v in kwargs.items():\n",
    "        print(k, ': ', v)\n",
    "        \n",
    "example_function(1, 2, 4, 5)\n",
    "print()\n",
    "example_function(1, 3, value=1, name=5)\n",
    "print()\n",
    "example_function(store='ff', quote='Do. Or do not. There is no try.')"
   ]
  }
 ],
 "metadata": {
  "kernelspec": {
   "display_name": "Python 3",
   "language": "python",
   "name": "python3"
  },
  "language_info": {
   "codemirror_mode": {
    "name": "ipython",
    "version": 3
   },
   "file_extension": ".py",
   "mimetype": "text/x-python",
   "name": "python",
   "nbconvert_exporter": "python",
   "pygments_lexer": "ipython3",
   "version": "3.6.7"
  }
 },
 "nbformat": 4,
 "nbformat_minor": 4
}
